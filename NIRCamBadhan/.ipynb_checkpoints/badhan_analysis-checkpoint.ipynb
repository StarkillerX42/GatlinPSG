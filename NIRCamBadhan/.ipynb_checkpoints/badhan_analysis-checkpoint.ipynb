{
 "cells": [
  {
   "cell_type": "code",
   "execution_count": 1,
   "metadata": {
    "ExecuteTime": {
     "end_time": "2018-05-31T14:56:28.158282-06:00",
     "start_time": "2018-05-31T14:56:27.518205Z"
    }
   },
   "outputs": [],
   "source": [
    "import starcoder42 as s\n",
    "import PSG\n",
    "import glob\n",
    "import matplotlib.pyplot as plt\n",
    "%matplotlib inline"
   ]
  },
  {
   "cell_type": "code",
   "execution_count": 2,
   "metadata": {
    "ExecuteTime": {
     "end_time": "2018-05-31T14:56:33.463121-06:00",
     "start_time": "2018-05-31T14:56:33.457138Z"
    }
   },
   "outputs": [
    {
     "name": "stdout",
     "output_type": "stream",
     "text": [
      "['trappist1e_1barN2_0.4barCO2_aqua_terminator.txt']\n"
     ]
    }
   ],
   "source": [
    "gcmfiles = glob.glob('*terminator.txt')\n",
    "print (gcmfiles)"
   ]
  },
  {
   "cell_type": "code",
   "execution_count": 29,
   "metadata": {
    "ExecuteTime": {
     "end_time": "2018-05-31T15:22:59.633953-06:00",
     "start_time": "2018-05-31T15:22:55.268747Z"
    }
   },
   "outputs": [
    {
     "name": "stdout",
     "output_type": "stream",
     "text": [
      "Calculating Planet Data\n",
      "    Using terminator profile\n",
      "    Successfully added 7 layers to the atmosphere\n",
      "    Successfully created PSG Config file from GCM results for TRAPPIST-1 e\n",
      "    The file's name is trappist1e_1barN2_0.4barCO2_NIRCam-Grism_psginput.txt\n",
      "Sending to PSG\n",
      "    Successfully connected to NASA PSG\n",
      "    7 files created\n",
      "Ready to Make Plots\n"
     ]
    }
   ],
   "source": [
    "x = PSG.PSG(\"TRAPPIST-1 e\", gcmfiles[0], scope='NIRCam-Grism', is_earth=False,\n",
    "            atmosphere_ceiling=1e-6, n_uplayers=7, exposure_time=15,\n",
    "            exposure_count=114)\n",
    "x.calculate(skprow=11)\n",
    "x.write()\n",
    "x.send(run=True)\n",
    "x.plot_setup()"
   ]
  },
  {
   "cell_type": "code",
   "execution_count": 30,
   "metadata": {
    "ExecuteTime": {
     "end_time": "2018-05-31T15:23:49.008721-06:00",
     "start_time": "2018-05-31T15:23:49.005721Z"
    }
   },
   "outputs": [],
   "source": [
    "grismw = x.Wavelengths\n",
    "grismd = -x.Transit/x.Stellar*1e6"
   ]
  },
  {
   "cell_type": "code",
   "execution_count": 31,
   "metadata": {
    "ExecuteTime": {
     "end_time": "2018-05-31T15:24:44.478136-06:00",
     "start_time": "2018-05-31T15:24:36.504331Z"
    }
   },
   "outputs": [
    {
     "name": "stdout",
     "output_type": "stream",
     "text": [
      "Calculating Planet Data\n",
      "    Using terminator profile\n",
      "    Successfully added 7 layers to the atmosphere\n",
      "    Successfully created PSG Config file from GCM results for TRAPPIST-1 e\n",
      "    The file's name is trappist1e_1barN2_0.4barCO2_NIRSpec-2700_psginput.txt\n",
      "Sending to PSG\n",
      "    Successfully connected to NASA PSG\n",
      "    7 files created\n",
      "Ready to Make Plots\n"
     ]
    }
   ],
   "source": [
    "x = PSG.PSG(\"TRAPPIST-1 e\", gcmfiles[0], scope='NIRSpec-2700', is_earth=False,\n",
    "            atmosphere_ceiling=1e-6, n_uplayers=7, exposure_time=15,\n",
    "            exposure_count=114)\n",
    "x.calculate(skprow=11)\n",
    "x.write()\n",
    "x.send(run=True)\n",
    "x.plot_setup()"
   ]
  },
  {
   "cell_type": "code",
   "execution_count": 32,
   "metadata": {
    "ExecuteTime": {
     "end_time": "2018-05-31T15:25:06.049799-06:00",
     "start_time": "2018-05-31T15:25:06.044816Z"
    }
   },
   "outputs": [],
   "source": [
    "nirw = x.Wavelengths\n",
    "nird = -x.Transit/x.Stellar*1e6"
   ]
  },
  {
   "cell_type": "code",
   "execution_count": 33,
   "metadata": {
    "ExecuteTime": {
     "end_time": "2018-05-31T15:25:42.025848-06:00",
     "start_time": "2018-05-31T15:25:33.881772Z"
    }
   },
   "outputs": [
    {
     "name": "stdout",
     "output_type": "stream",
     "text": [
      "Calculating Planet Data\n",
      "    Using terminator profile\n",
      "    Successfully added 7 layers to the atmosphere\n",
      "    Successfully created PSG Config file from GCM results for TRAPPIST-1 e\n",
      "    The file's name is trappist1e_1barN2_0.4barCO2_NIRISS-SOSS_psginput.txt\n",
      "Sending to PSG\n",
      "    Successfully connected to NASA PSG\n",
      "    8 files created\n",
      "Ready to Make Plots\n"
     ]
    }
   ],
   "source": [
    "x = PSG.PSG(\"TRAPPIST-1 e\", gcmfiles[0], scope=\"MIR\", is_earth=False,\n",
    "            atmosphere_ceiling=1e-6, n_uplayers=7, exposure_time=15,\n",
    "            exposure_count=114)\n",
    "x.calculate(skprow=11)\n",
    "x.write()\n",
    "x.send(run=True)\n",
    "x.plot_setup()"
   ]
  },
  {
   "cell_type": "code",
   "execution_count": 34,
   "metadata": {
    "ExecuteTime": {
     "end_time": "2018-05-31T15:26:06.723516-06:00",
     "start_time": "2018-05-31T15:26:06.718519Z"
    }
   },
   "outputs": [],
   "source": [
    "niriw = x.Wavelengths\n",
    "nirid = -x.Transit/x.Stellar*1e6"
   ]
  },
  {
   "cell_type": "code",
   "execution_count": 8,
   "metadata": {
    "ExecuteTime": {
     "end_time": "2018-05-31T14:18:06.991653-06:00",
     "start_time": "2018-05-31T14:18:06.978660Z"
    }
   },
   "outputs": [
    {
     "data": {
      "text/html": [
       "&lt;Table length=47&gt;\n",
       "<table id=\"table1823694619368\" class=\"table-striped table-bordered table-condensed\">\n",
       "<thead><tr><th>Layer</th><th>Height</th><th>Pressure</th><th>Temperature</th><th>N2</th><th>CO2</th><th>H2O</th><th>LiquidCloud</th><th>IceCloud</th><th>LiquidCloudSize</th><th>IceCloudSize</th></tr></thead>\n",
       "<thead><tr><th>float64</th><th>float64</th><th>float64</th><th>float64</th><th>float64</th><th>float64</th><th>float64</th><th>float64</th><th>float64</th><th>float64</th><th>float64</th></tr></thead>\n",
       "<tr><td>1.0</td><td>0.0624490585</td><td>1.3948414307</td><td>285.6473694</td><td>0.743522479370338</td><td>0.29742105722016676</td><td>0.010124508311474618</td><td>2.7378913764375307e-05</td><td>7.467335884602357e-11</td><td>14.0</td><td>245.268</td></tr>\n",
       "<tr><td>2.0</td><td>0.2538918304</td><td>1.3634121094</td><td>287.7983398</td><td>0.743405111454549</td><td>0.2973740929428579</td><td>0.010321564184035393</td><td>1.4983826903481737e-05</td><td>1.2593205384097718e-29</td><td>14.0</td><td>245.257</td></tr>\n",
       "<tr><td>3.0</td><td>0.6280254517</td><td>1.3044910889</td><td>290.3214417</td><td>0.7438750555689689</td><td>0.2975620794772623</td><td>0.009513951323430787</td><td>1.162038713267789e-05</td><td>1.457692805245037e-27</td><td>14.0</td><td>245.001</td></tr>\n",
       "<tr><td>4.0</td><td>1.2355699463</td><td>1.2144830322</td><td>290.4963074</td><td>0.7446333885309321</td><td>0.29786546618616155</td><td>0.008211542942301501</td><td>1.0508162479488627e-05</td><td>4.863929294759126e-13</td><td>14.0</td><td>244.42</td></tr>\n",
       "<tr><td>5.0</td><td>2.0735</td><td>1.1000306396000001</td><td>288.3937988</td><td>0.745355623864113</td><td>0.2981543887896561</td><td>0.006971968938266969</td><td>1.1984631264155307e-05</td><td>4.299056970664211e-09</td><td>14.0</td><td>243.352</td></tr>\n",
       "<tr><td>6.0</td><td>3.1339487305</td><td>0.9690897217000001</td><td>283.894043</td><td>0.7461687023380548</td><td>0.2984795768510783</td><td>0.005576714198748989</td><td>1.4352685597170603e-05</td><td>3.8182831151211714e-08</td><td>14.0</td><td>240.517</td></tr>\n",
       "<tr><td>7.0</td><td>4.4018339844000005</td><td>0.8304191895</td><td>277.6163635</td><td>0.7469053567871445</td><td>0.29877429339680067</td><td>0.004311744808277689</td><td>1.555473732701135e-05</td><td>1.611936086744098e-07</td><td>14.0</td><td>232.278</td></tr>\n",
       "<tr><td>8.0</td><td>5.7642592773</td><td>0.7006837158</td><td>270.3057251</td><td>0.7476383686650052</td><td>0.29906747721695137</td><td>0.0030541653691493822</td><td>1.9323727229330128e-05</td><td>8.284419441916838e-07</td><td>14.0</td><td>212.468</td></tr>\n",
       "<tr><td>9.0</td><td>7.100798828099999</td><td>0.5904064941</td><td>262.8930359</td><td>0.7482880606511453</td><td>0.2993273740445811</td><td>0.0019364756556699376</td><td>1.4517919672065879e-05</td><td>2.3848849463334803e-06</td><td>14.0</td><td>166.62</td></tr>\n",
       "<tr><td>10.0</td><td>8.4133066406</td><td>0.4966690979</td><td>255.7516785</td><td>0.7487533049959171</td><td>0.29951346962689074</td><td>0.0011351550206896547</td><td>7.919681642179804e-06</td><td>4.005460602823896e-06</td><td>14.0</td><td>123.287</td></tr>\n",
       "<tr><td>...</td><td>...</td><td>...</td><td>...</td><td>...</td><td>...</td><td>...</td><td>...</td><td>...</td><td>...</td><td>...</td></tr>\n",
       "<tr><td>38.0</td><td>42.599449218800004</td><td>0.0016128501</td><td>178.9176025</td><td>0.7494068840891184</td><td>0.2997749378658351</td><td>7.422828549654567e-06</td><td>0.0</td><td>7.245875886825567e-08</td><td>14.0</td><td>6.512</td></tr>\n",
       "<tr><td>39.0</td><td>43.953546875</td><td>0.0012447951</td><td>178.3694458</td><td>0.7494068734418907</td><td>0.29977491030297804</td><td>7.537433302933744e-06</td><td>0.0</td><td>4.576601099983055e-08</td><td>14.0</td><td>6.348</td></tr>\n",
       "<tr><td>40.0</td><td>45.3320664062</td><td>0.0009559474999999999</td><td>178.5236359</td><td>0.7494066524478142</td><td>0.2997748289925564</td><td>7.759157228313254e-06</td><td>0.0</td><td>9.908108286826561e-09</td><td>14.0</td><td>6.418</td></tr>\n",
       "<tr><td>41.0</td><td>47.332066406200006</td><td>0.0007832397775728054</td><td>178.5236359</td><td>0.7494066524478142</td><td>0.2997748289925564</td><td>7.759157228313254e-06</td><td>0.0</td><td>9.908108286826561e-09</td><td>14.0</td><td>6.418</td></tr>\n",
       "<tr><td>42.0</td><td>54.816989854223415</td><td>0.0003715563549909918</td><td>178.5236359</td><td>0.7494066524478142</td><td>0.2997748289925564</td><td>7.759157228313254e-06</td><td>0.0</td><td>9.908108286826561e-09</td><td>14.0</td><td>6.418</td></tr>\n",
       "<tr><td>43.0</td><td>63.485552286904245</td><td>0.00015665310368002575</td><td>178.5236359</td><td>0.7494066524478142</td><td>0.2997748289925564</td><td>7.759157228313254e-06</td><td>0.0</td><td>9.908108286826561e-09</td><td>14.0</td><td>6.418</td></tr>\n",
       "<tr><td>44.0</td><td>73.5249301337316</td><td>5.761540329281143e-05</td><td>178.5236359</td><td>0.7494066524478142</td><td>0.2997748289925564</td><td>7.759157228313254e-06</td><td>0.0</td><td>9.908108286826561e-09</td><td>14.0</td><td>6.418</td></tr>\n",
       "<tr><td>45.0</td><td>85.1518992343277</td><td>1.809021321957296e-05</td><td>178.5236359</td><td>0.7494066524478142</td><td>0.2997748289925564</td><td>7.759157228313254e-06</td><td>0.0</td><td>9.908108286826561e-09</td><td>14.0</td><td>6.418</td></tr>\n",
       "<tr><td>46.0</td><td>98.6175155831474</td><td>4.7292376287316544e-06</td><td>178.5236359</td><td>0.7494066524478142</td><td>0.2997748289925564</td><td>7.759157228313254e-06</td><td>0.0</td><td>9.908108286826561e-09</td><td>14.0</td><td>6.418</td></tr>\n",
       "<tr><td>47.0</td><td>114.21253627037915</td><td>1.000000000000005e-06</td><td>178.5236359</td><td>0.7494066524478142</td><td>0.2997748289925564</td><td>7.759157228313254e-06</td><td>0.0</td><td>9.908108286826561e-09</td><td>14.0</td><td>6.418</td></tr>\n",
       "</table>"
      ],
      "text/plain": [
       "<Table length=47>\n",
       " Layer        Height       ... LiquidCloudSize IceCloudSize\n",
       "float64      float64       ...     float64       float64   \n",
       "------- ------------------ ... --------------- ------------\n",
       "    1.0       0.0624490585 ...            14.0      245.268\n",
       "    2.0       0.2538918304 ...            14.0      245.257\n",
       "    3.0       0.6280254517 ...            14.0      245.001\n",
       "    4.0       1.2355699463 ...            14.0       244.42\n",
       "    5.0             2.0735 ...            14.0      243.352\n",
       "    6.0       3.1339487305 ...            14.0      240.517\n",
       "    7.0 4.4018339844000005 ...            14.0      232.278\n",
       "    8.0       5.7642592773 ...            14.0      212.468\n",
       "    9.0  7.100798828099999 ...            14.0       166.62\n",
       "   10.0       8.4133066406 ...            14.0      123.287\n",
       "    ...                ... ...             ...          ...\n",
       "   38.0 42.599449218800004 ...            14.0        6.512\n",
       "   39.0       43.953546875 ...            14.0        6.348\n",
       "   40.0      45.3320664062 ...            14.0        6.418\n",
       "   41.0 47.332066406200006 ...            14.0        6.418\n",
       "   42.0 54.816989854223415 ...            14.0        6.418\n",
       "   43.0 63.485552286904245 ...            14.0        6.418\n",
       "   44.0   73.5249301337316 ...            14.0        6.418\n",
       "   45.0   85.1518992343277 ...            14.0        6.418\n",
       "   46.0   98.6175155831474 ...            14.0        6.418\n",
       "   47.0 114.21253627037915 ...            14.0        6.418"
      ]
     },
     "execution_count": 8,
     "metadata": {},
     "output_type": "execute_result"
    }
   ],
   "source": [
    "x.atmosphere"
   ]
  },
  {
   "cell_type": "code",
   "execution_count": 25,
   "metadata": {
    "ExecuteTime": {
     "end_time": "2018-05-31T15:08:34.730625-06:00",
     "start_time": "2018-05-31T15:08:30.715710Z"
    }
   },
   "outputs": [
    {
     "name": "stdout",
     "output_type": "stream",
     "text": [
      "Sending to PSG\n",
      "    Successfully connected to NASA PSG\n",
      "    7 files created\n",
      "Ready to Make Plots\n"
     ]
    }
   ],
   "source": [
    "x.atmosphere"
   ]
  },
  {
   "cell_type": "code",
   "execution_count": 37,
   "metadata": {
    "ExecuteTime": {
     "end_time": "2018-05-31T15:28:16.973887-06:00",
     "start_time": "2018-05-31T15:28:16.807982Z"
    }
   },
   "outputs": [
    {
     "data": {
      "text/plain": [
       "<matplotlib.legend.Legend at 0x205c2484f60>"
      ]
     },
     "execution_count": 37,
     "metadata": {},
     "output_type": "execute_result"
    },
    {
     "data": {
      "image/png": "[encoded data removed]",
      "text/plain": [
       "<matplotlib.figure.Figure at 0x205c2451e48>"
      ]
     },
     "metadata": {},
     "output_type": "display_data"
    }
   ],
   "source": [
    "fig = plt.figure(figsize=(10,6))\n",
    "ax = fig.gca()\n",
    "ax.step(grismw, grismd, label=\"Grism\", c=\"orange\", where=\"post\")\n",
    "ax.step(nirw, nird, label=\"NirSpec-2700\", c=\"b\", where=\"post\")\n",
    "ax.step(niriw, nirid, label=\"NIRISS-SOSS\", c=\"k\", where=\"post\")\n",
    "ax.set_xlabel(\"Wavelengths\")\n",
    "ax.set_ylabel(\"Depth\")\n",
    "ax.legend()"
   ]
  },
  {
   "cell_type": "code",
   "execution_count": 38,
   "metadata": {
    "ExecuteTime": {
     "end_time": "2018-05-31T15:28:39.487559-06:00",
     "start_time": "2018-05-31T15:28:39.384621Z"
    }
   },
   "outputs": [
    {
     "data": {
      "text/plain": [
       "[<matplotlib.lines.Line2D at 0x205c23da160>]"
      ]
     },
     "execution_count": 38,
     "metadata": {},
     "output_type": "execute_result"
    },
    {
     "data": {
      "image/png": "[encoded data removed]",
      "text/plain": [
       "<matplotlib.figure.Figure at 0x205bfb7de48>"
      ]
     },
     "metadata": {},
     "output_type": "display_data"
    }
   ],
   "source": [
    "plt.step(nirw, nird, label=\"NirSpec-2700\", c=\"b\", where=\"post\")"
   ]
  },
  {
   "cell_type": "code",
   "execution_count": null,
   "metadata": {
    "ExecuteTime": {
     "end_time": "2018-05-31T15:28:57.971181-06:00",
     "start_time": "2018-05-31T15:28:57.868241Z"
    }
   },
   "outputs": [],
   "source": []
  },
  {
   "cell_type": "code",
   "execution_count": null,
   "metadata": {},
   "outputs": [],
   "source": []
  }
 ],
 "metadata": {
  "kernelspec": {
   "display_name": "Python [conda env:snakes]",
   "language": "python",
   "name": "conda-env-snakes-py"
  },
  "language_info": {
   "codemirror_mode": {
    "name": "ipython",
    "version": 3
   },
   "file_extension": ".py",
   "mimetype": "text/x-python",
   "name": "python",
   "nbconvert_exporter": "python",
   "pygments_lexer": "ipython3",
   "version": "3.6.4"
  }
 },
 "nbformat": 4,
 "nbformat_minor": 2
}
