{
 "cells": [
  {
   "cell_type": "markdown",
   "metadata": {
    "toc": true
   },
   "source": [
    "<h1>Table of Contents<span class=\"tocSkip\"></span></h1>\n",
    "<div class=\"toc\"><ul class=\"toc-item\"><li><span><a href=\"#2018-06-07\" data-toc-modified-id=\"2018-06-07-1\"><span class=\"toc-item-num\">1&nbsp;&nbsp;</span>2018-06-07</a></span><ul class=\"toc-item\"><li><span><a href=\"#NIRSpec\" data-toc-modified-id=\"NIRSpec-1.1\"><span class=\"toc-item-num\">1.1&nbsp;&nbsp;</span>NIRSpec</a></span></li><li><span><a href=\"#MIRI\" data-toc-modified-id=\"MIRI-1.2\"><span class=\"toc-item-num\">1.2&nbsp;&nbsp;</span>MIRI</a></span></li></ul></li></ul></div>"
   ]
  },
  {
   "cell_type": "code",
   "execution_count": 1,
   "metadata": {
    "ExecuteTime": {
     "end_time": "2018-06-10T12:12:27.318402-06:00",
     "start_time": "2018-06-10T12:12:24.096801Z"
    }
   },
   "outputs": [],
   "source": [
    "import starcoder42 as s\n",
    "import PSG\n",
    "import glob\n",
    "import matplotlib.pyplot as plt\n",
    "%matplotlib inline"
   ]
  },
  {
   "cell_type": "code",
   "execution_count": 2,
   "metadata": {
    "ExecuteTime": {
     "end_time": "2018-06-10T12:12:27.328403-06:00",
     "start_time": "2018-06-10T12:12:27.318402Z"
    }
   },
   "outputs": [
    {
     "name": "stdout",
     "output_type": "stream",
     "text": [
      "['t3300_s1650_p19.5724_terminator.txt', 'trappist1e_1barN2_0.4barCO2_aqua_terminator.txt']\n"
     ]
    }
   ],
   "source": [
    "gcmfiles = glob.glob('*terminator.txt')\n",
    "print (gcmfiles)"
   ]
  },
  {
   "cell_type": "code",
   "execution_count": 5,
   "metadata": {
    "ExecuteTime": {
     "end_time": "2018-06-07T09:07:07.841736-06:00",
     "start_time": "2018-06-07T09:07:07.716752Z"
    }
   },
   "outputs": [
    {
     "name": "stdout",
     "output_type": "stream",
     "text": [
      "Calculating Planet Data\n",
      "    Using terminator profile\n"
     ]
    }
   ],
   "source": [
    "x = PSG.PSG(\"TRAPPIST-1 e\", gcmfiles[0], is_earth=False,\n",
    "            atmosphere_ceiling=1e-6, n_uplayers=7)\n",
    "x.calculate(skprow=11)"
   ]
  },
  {
   "cell_type": "code",
   "execution_count": 6,
   "metadata": {
    "ExecuteTime": {
     "end_time": "2018-06-07T09:07:37.895761-06:00",
     "start_time": "2018-06-07T09:07:30.222794Z"
    }
   },
   "outputs": [
    {
     "name": "stdout",
     "output_type": "stream",
     "text": [
      "    Assuming the file is a dry file\n",
      "    Successfully added 7 layers to the atmosphere\n",
      "    Successfully created PSG Config file from GCM results for ExoEarth like TRAPPIST-1 e\n",
      "    The file's name is t3300_s1650_p19.5724_terminator.txt_NIRSpec-2700_dry_psginput.txt\n",
      "Sending to PSG\n",
      "    Successfully connected to NASA PSG\n",
      "    8 files created\n",
      "4504\n",
      "Ready to Make Plots\n"
     ]
    }
   ],
   "source": [
    "x.write(scope=\"NIRSpec-2700\", exposure_time=30,\n",
    "        exposure_count=110, rad_units=\"rel\")\n",
    "x.send(run=True)\n",
    "x.plot_setup()"
   ]
  },
  {
   "cell_type": "code",
   "execution_count": 31,
   "metadata": {
    "ExecuteTime": {
     "end_time": "2018-05-31T15:24:44.478136-06:00",
     "start_time": "2018-05-31T15:24:36.504331Z"
    }
   },
   "outputs": [
    {
     "name": "stdout",
     "output_type": "stream",
     "text": [
      "Calculating Planet Data\n",
      "    Using terminator profile\n",
      "    Successfully added 7 layers to the atmosphere\n",
      "    Successfully created PSG Config file from GCM results for TRAPPIST-1 e\n",
      "    The file's name is trappist1e_1barN2_0.4barCO2_NIRSpec-2700_psginput.txt\n",
      "Sending to PSG\n",
      "    Successfully connected to NASA PSG\n",
      "    7 files created\n",
      "Ready to Make Plots\n"
     ]
    }
   ],
   "source": [
    "x = PSG.PSG(\"TRAPPIST-1 e\", gcmfiles[0], scope='NIRSpec-2700', is_earth=False,\n",
    "            atmosphere_ceiling=1e-6, n_uplayers=7, exposure_time=15,\n",
    "            exposure_count=114)\n",
    "x.calculate(skprow=11)\n",
    "x.write()\n",
    "x.send(run=True)\n",
    "x.plot_setup()"
   ]
  },
  {
   "cell_type": "code",
   "execution_count": 32,
   "metadata": {
    "ExecuteTime": {
     "end_time": "2018-05-31T15:25:06.049799-06:00",
     "start_time": "2018-05-31T15:25:06.044816Z"
    }
   },
   "outputs": [],
   "source": [
    "nirw = x.Wavelengths\n",
    "nird = -x.Transit/x.Stellar*1e6"
   ]
  },
  {
   "cell_type": "code",
   "execution_count": 33,
   "metadata": {
    "ExecuteTime": {
     "end_time": "2018-05-31T15:25:42.025848-06:00",
     "start_time": "2018-05-31T15:25:33.881772Z"
    }
   },
   "outputs": [
    {
     "name": "stdout",
     "output_type": "stream",
     "text": [
      "Calculating Planet Data\n",
      "    Using terminator profile\n",
      "    Successfully added 7 layers to the atmosphere\n",
      "    Successfully created PSG Config file from GCM results for TRAPPIST-1 e\n",
      "    The file's name is trappist1e_1barN2_0.4barCO2_NIRISS-SOSS_psginput.txt\n",
      "Sending to PSG\n",
      "    Successfully connected to NASA PSG\n",
      "    8 files created\n",
      "Ready to Make Plots\n"
     ]
    }
   ],
   "source": [
    "x = PSG.PSG(\"TRAPPIST-1 e\", gcmfiles[0], scope=\"NIRISS-SOSS\", is_earth=False,\n",
    "            atmosphere_ceiling=1e-6, n_uplayers=7, exposure_time=15,\n",
    "            exposure_count=114)\n",
    "x.calculate(skprow=11)\n",
    "x.write()\n",
    "x.send(run=True)\n",
    "x.plot_setup()"
   ]
  },
  {
   "cell_type": "code",
   "execution_count": 34,
   "metadata": {
    "ExecuteTime": {
     "end_time": "2018-05-31T15:26:06.723516-06:00",
     "start_time": "2018-05-31T15:26:06.718519Z"
    }
   },
   "outputs": [],
   "source": [
    "niriw = x.Wavelengths\n",
    "nirid = -x.Transit/x.Stellar*1e6"
   ]
  },
  {
   "cell_type": "code",
   "execution_count": 8,
   "metadata": {
    "ExecuteTime": {
     "end_time": "2018-05-31T14:18:06.991653-06:00",
     "start_time": "2018-05-31T14:18:06.978660Z"
    }
   },
   "outputs": [
    {
     "data": {
      "text/html": [
       "&lt;Table length=47&gt;\n",
       "<table id=\"table1823694619368\" class=\"table-striped table-bordered table-condensed\">\n",
       "<thead><tr><th>Layer</th><th>Height</th><th>Pressure</th><th>Temperature</th><th>N2</th><th>CO2</th><th>H2O</th><th>LiquidCloud</th><th>IceCloud</th><th>LiquidCloudSize</th><th>IceCloudSize</th></tr></thead>\n",
       "<thead><tr><th>float64</th><th>float64</th><th>float64</th><th>float64</th><th>float64</th><th>float64</th><th>float64</th><th>float64</th><th>float64</th><th>float64</th><th>float64</th></tr></thead>\n",
       "<tr><td>1.0</td><td>0.0624490585</td><td>1.3948414307</td><td>285.6473694</td><td>0.743522479370338</td><td>0.29742105722016676</td><td>0.010124508311474618</td><td>2.7378913764375307e-05</td><td>7.467335884602357e-11</td><td>14.0</td><td>245.268</td></tr>\n",
       "<tr><td>2.0</td><td>0.2538918304</td><td>1.3634121094</td><td>287.7983398</td><td>0.743405111454549</td><td>0.2973740929428579</td><td>0.010321564184035393</td><td>1.4983826903481737e-05</td><td>1.2593205384097718e-29</td><td>14.0</td><td>245.257</td></tr>\n",
       "<tr><td>3.0</td><td>0.6280254517</td><td>1.3044910889</td><td>290.3214417</td><td>0.7438750555689689</td><td>0.2975620794772623</td><td>0.009513951323430787</td><td>1.162038713267789e-05</td><td>1.457692805245037e-27</td><td>14.0</td><td>245.001</td></tr>\n",
       "<tr><td>4.0</td><td>1.2355699463</td><td>1.2144830322</td><td>290.4963074</td><td>0.7446333885309321</td><td>0.29786546618616155</td><td>0.008211542942301501</td><td>1.0508162479488627e-05</td><td>4.863929294759126e-13</td><td>14.0</td><td>244.42</td></tr>\n",
       "<tr><td>5.0</td><td>2.0735</td><td>1.1000306396000001</td><td>288.3937988</td><td>0.745355623864113</td><td>0.2981543887896561</td><td>0.006971968938266969</td><td>1.1984631264155307e-05</td><td>4.299056970664211e-09</td><td>14.0</td><td>243.352</td></tr>\n",
       "<tr><td>6.0</td><td>3.1339487305</td><td>0.9690897217000001</td><td>283.894043</td><td>0.7461687023380548</td><td>0.2984795768510783</td><td>0.005576714198748989</td><td>1.4352685597170603e-05</td><td>3.8182831151211714e-08</td><td>14.0</td><td>240.517</td></tr>\n",
       "<tr><td>7.0</td><td>4.4018339844000005</td><td>0.8304191895</td><td>277.6163635</td><td>0.7469053567871445</td><td>0.29877429339680067</td><td>0.004311744808277689</td><td>1.555473732701135e-05</td><td>1.611936086744098e-07</td><td>14.0</td><td>232.278</td></tr>\n",
       "<tr><td>8.0</td><td>5.7642592773</td><td>0.7006837158</td><td>270.3057251</td><td>0.7476383686650052</td><td>0.29906747721695137</td><td>0.0030541653691493822</td><td>1.9323727229330128e-05</td><td>8.284419441916838e-07</td><td>14.0</td><td>212.468</td></tr>\n",
       "<tr><td>9.0</td><td>7.100798828099999</td><td>0.5904064941</td><td>262.8930359</td><td>0.7482880606511453</td><td>0.2993273740445811</td><td>0.0019364756556699376</td><td>1.4517919672065879e-05</td><td>2.3848849463334803e-06</td><td>14.0</td><td>166.62</td></tr>\n",
       "<tr><td>10.0</td><td>8.4133066406</td><td>0.4966690979</td><td>255.7516785</td><td>0.7487533049959171</td><td>0.29951346962689074</td><td>0.0011351550206896547</td><td>7.919681642179804e-06</td><td>4.005460602823896e-06</td><td>14.0</td><td>123.287</td></tr>\n",
       "<tr><td>...</td><td>...</td><td>...</td><td>...</td><td>...</td><td>...</td><td>...</td><td>...</td><td>...</td><td>...</td><td>...</td></tr>\n",
       "<tr><td>38.0</td><td>42.599449218800004</td><td>0.0016128501</td><td>178.9176025</td><td>0.7494068840891184</td><td>0.2997749378658351</td><td>7.422828549654567e-06</td><td>0.0</td><td>7.245875886825567e-08</td><td>14.0</td><td>6.512</td></tr>\n",
       "<tr><td>39.0</td><td>43.953546875</td><td>0.0012447951</td><td>178.3694458</td><td>0.7494068734418907</td><td>0.29977491030297804</td><td>7.537433302933744e-06</td><td>0.0</td><td>4.576601099983055e-08</td><td>14.0</td><td>6.348</td></tr>\n",
       "<tr><td>40.0</td><td>45.3320664062</td><td>0.0009559474999999999</td><td>178.5236359</td><td>0.7494066524478142</td><td>0.2997748289925564</td><td>7.759157228313254e-06</td><td>0.0</td><td>9.908108286826561e-09</td><td>14.0</td><td>6.418</td></tr>\n",
       "<tr><td>41.0</td><td>47.332066406200006</td><td>0.0007832397775728054</td><td>178.5236359</td><td>0.7494066524478142</td><td>0.2997748289925564</td><td>7.759157228313254e-06</td><td>0.0</td><td>9.908108286826561e-09</td><td>14.0</td><td>6.418</td></tr>\n",
       "<tr><td>42.0</td><td>54.816989854223415</td><td>0.0003715563549909918</td><td>178.5236359</td><td>0.7494066524478142</td><td>0.2997748289925564</td><td>7.759157228313254e-06</td><td>0.0</td><td>9.908108286826561e-09</td><td>14.0</td><td>6.418</td></tr>\n",
       "<tr><td>43.0</td><td>63.485552286904245</td><td>0.00015665310368002575</td><td>178.5236359</td><td>0.7494066524478142</td><td>0.2997748289925564</td><td>7.759157228313254e-06</td><td>0.0</td><td>9.908108286826561e-09</td><td>14.0</td><td>6.418</td></tr>\n",
       "<tr><td>44.0</td><td>73.5249301337316</td><td>5.761540329281143e-05</td><td>178.5236359</td><td>0.7494066524478142</td><td>0.2997748289925564</td><td>7.759157228313254e-06</td><td>0.0</td><td>9.908108286826561e-09</td><td>14.0</td><td>6.418</td></tr>\n",
       "<tr><td>45.0</td><td>85.1518992343277</td><td>1.809021321957296e-05</td><td>178.5236359</td><td>0.7494066524478142</td><td>0.2997748289925564</td><td>7.759157228313254e-06</td><td>0.0</td><td>9.908108286826561e-09</td><td>14.0</td><td>6.418</td></tr>\n",
       "<tr><td>46.0</td><td>98.6175155831474</td><td>4.7292376287316544e-06</td><td>178.5236359</td><td>0.7494066524478142</td><td>0.2997748289925564</td><td>7.759157228313254e-06</td><td>0.0</td><td>9.908108286826561e-09</td><td>14.0</td><td>6.418</td></tr>\n",
       "<tr><td>47.0</td><td>114.21253627037915</td><td>1.000000000000005e-06</td><td>178.5236359</td><td>0.7494066524478142</td><td>0.2997748289925564</td><td>7.759157228313254e-06</td><td>0.0</td><td>9.908108286826561e-09</td><td>14.0</td><td>6.418</td></tr>\n",
       "</table>"
      ],
      "text/plain": [
       "<Table length=47>\n",
       " Layer        Height       ... LiquidCloudSize IceCloudSize\n",
       "float64      float64       ...     float64       float64   \n",
       "------- ------------------ ... --------------- ------------\n",
       "    1.0       0.0624490585 ...            14.0      245.268\n",
       "    2.0       0.2538918304 ...            14.0      245.257\n",
       "    3.0       0.6280254517 ...            14.0      245.001\n",
       "    4.0       1.2355699463 ...            14.0       244.42\n",
       "    5.0             2.0735 ...            14.0      243.352\n",
       "    6.0       3.1339487305 ...            14.0      240.517\n",
       "    7.0 4.4018339844000005 ...            14.0      232.278\n",
       "    8.0       5.7642592773 ...            14.0      212.468\n",
       "    9.0  7.100798828099999 ...            14.0       166.62\n",
       "   10.0       8.4133066406 ...            14.0      123.287\n",
       "    ...                ... ...             ...          ...\n",
       "   38.0 42.599449218800004 ...            14.0        6.512\n",
       "   39.0       43.953546875 ...            14.0        6.348\n",
       "   40.0      45.3320664062 ...            14.0        6.418\n",
       "   41.0 47.332066406200006 ...            14.0        6.418\n",
       "   42.0 54.816989854223415 ...            14.0        6.418\n",
       "   43.0 63.485552286904245 ...            14.0        6.418\n",
       "   44.0   73.5249301337316 ...            14.0        6.418\n",
       "   45.0   85.1518992343277 ...            14.0        6.418\n",
       "   46.0   98.6175155831474 ...            14.0        6.418\n",
       "   47.0 114.21253627037915 ...            14.0        6.418"
      ]
     },
     "execution_count": 8,
     "metadata": {},
     "output_type": "execute_result"
    }
   ],
   "source": [
    "x.atmosphere"
   ]
  },
  {
   "cell_type": "code",
   "execution_count": 25,
   "metadata": {
    "ExecuteTime": {
     "end_time": "2018-05-31T15:08:34.730625-06:00",
     "start_time": "2018-05-31T15:08:30.715710Z"
    }
   },
   "outputs": [
    {
     "name": "stdout",
     "output_type": "stream",
     "text": [
      "Sending to PSG\n",
      "    Successfully connected to NASA PSG\n",
      "    7 files created\n",
      "Ready to Make Plots\n"
     ]
    }
   ],
   "source": [
    "x.atmosphere"
   ]
  },
  {
   "cell_type": "code",
   "execution_count": 55,
   "metadata": {
    "ExecuteTime": {
     "end_time": "2018-05-31T15:47:11.772794-06:00",
     "start_time": "2018-05-31T15:47:11.430988Z"
    }
   },
   "outputs": [
    {
     "data": {
      "image/png": "[encoded data removed]",
      "text/plain": [
       "<matplotlib.figure.Figure at 0x205c7617f28>"
      ]
     },
     "metadata": {},
     "output_type": "display_data"
    }
   ],
   "source": [
    "fig = plt.figure(figsize=(10,6))\n",
    "ax = fig.gca()\n",
    "ax.step(miriw, mirid, label=\"MIRI-MRS\", c=\"orange\", where=\"post\")\n",
    "ax.step(nirw, nird, label=\"NirSpec-2700\", c=\"b\", where=\"post\")\n",
    "ax.step(niriw, nirid, label=\"NIRISS-SOSS\", c=\"k\", where=\"post\")\n",
    "ax.set_xlabel(\"Wavelengths ($\\mu m$)\")\n",
    "ax.set_ylabel(\"Depth (ppm)\")\n",
    "ax.set_title(\"Multiple JWST Instruments on TRAPPIST-1 e\")\n",
    "ax.set_xlim(0,28)\n",
    "ax.legend()\n",
    "fig.savefig(\"combined_instruments_test.png\")"
   ]
  },
  {
   "cell_type": "code",
   "execution_count": 38,
   "metadata": {
    "ExecuteTime": {
     "end_time": "2018-05-31T15:28:39.487559-06:00",
     "start_time": "2018-05-31T15:28:39.384621Z"
    }
   },
   "outputs": [
    {
     "data": {
      "text/plain": [
       "[<matplotlib.lines.Line2D at 0x205c23da160>]"
      ]
     },
     "execution_count": 38,
     "metadata": {},
     "output_type": "execute_result"
    },
    {
     "data": {
      "image/png": "[encoded data removed]",
      "text/plain": [
       "<matplotlib.figure.Figure at 0x205bfb7de48>"
      ]
     },
     "metadata": {},
     "output_type": "display_data"
    }
   ],
   "source": [
    "plt.step(nirw, nird, label=\"NirSpec-2700\", c=\"b\", where=\"post\")"
   ]
  },
  {
   "cell_type": "code",
   "execution_count": 67,
   "metadata": {
    "ExecuteTime": {
     "end_time": "2018-05-31T15:59:25.239789-06:00",
     "start_time": "2018-05-31T15:59:25.133836Z"
    }
   },
   "outputs": [
    {
     "data": {
      "text/plain": [
       "[<matplotlib.lines.Line2D at 0x205c3ba1048>]"
      ]
     },
     "execution_count": 67,
     "metadata": {},
     "output_type": "execute_result"
    },
    {
     "data": {
      "image/png": "[encoded data removed]",
      "text/plain": [
       "<matplotlib.figure.Figure at 0x205c3b24dd8>"
      ]
     },
     "metadata": {},
     "output_type": "display_data"
    }
   ],
   "source": [
    "plt.plot((-x.Planet)/x.Stellar*1e6)"
   ]
  },
  {
   "cell_type": "markdown",
   "metadata": {},
   "source": [
    "# 2018-06-07\n",
    "Given Eric's new file format, I'm starting to work with the actual atmosphere profile"
   ]
  },
  {
   "cell_type": "markdown",
   "metadata": {},
   "source": [
    "## NIRSpec"
   ]
  },
  {
   "cell_type": "code",
   "execution_count": 117,
   "metadata": {
    "ExecuteTime": {
     "end_time": "2018-06-10T13:34:30.179338-06:00",
     "start_time": "2018-06-10T13:34:30.076496Z"
    }
   },
   "outputs": [
    {
     "name": "stdout",
     "output_type": "stream",
     "text": [
      "Calculating Planet Data\n",
      "    Planet not found. Inupts must be given manually.\n",
      "    Using terminator profile\n"
     ]
    }
   ],
   "source": [
    "s.reload(PSG)\n",
    "nir = PSG.PSG(\"Gatlin b\", gcmfiles[0], is_earth=True,\n",
    "            atmosphere_ceiling=1e-6, n_uplayers=7)\n",
    "nir.calculate(skprow=11)"
   ]
  },
  {
   "cell_type": "code",
   "execution_count": 118,
   "metadata": {
    "ExecuteTime": {
     "end_time": "2018-06-10T13:34:30.318591-06:00",
     "start_time": "2018-06-10T13:34:30.308593Z"
    }
   },
   "outputs": [],
   "source": [
    "# Input custom values\n",
    "nir.planet_data[\"SemiMajorAxis\"] = 0.1\n",
    "nir.planet_data[\"Inclination\"] = 90.\n",
    "nir.planet_data[\"Insolation\"] = 1650.\n",
    "nir.star_data[\"Temperature\"] = 3300.\n",
    "nir.star_data[\"SRadius\"] = 0.137\n",
    "nir.star_data[\"Magnitude\"] = 14\n",
    "nir.star_data[\"Mass\"] = 0.25"
   ]
  },
  {
   "cell_type": "code",
   "execution_count": 119,
   "metadata": {
    "ExecuteTime": {
     "end_time": "2018-06-10T13:34:39.678593-06:00",
     "start_time": "2018-06-10T13:34:30.488831Z"
    }
   },
   "outputs": [
    {
     "name": "stdout",
     "output_type": "stream",
     "text": [
      "    Successfully added 7 layers to the atmosphere\n",
      "    Successfully created PSG Config file from GCM results for ExoEarth like Gatlin b\n",
      "    The file's name is t3300_s1650_p19.5724_terminator_NIRSpec-2700_psginput.txt\n",
      "Sending to PSG\n",
      "    Successfully connected to NASA PSG\n",
      "    8 files created\n",
      "    PSG returned an error or warning:\n",
      "WARNING | PUMAS | Requested aerosol size (14.000 um) is out of range (0.010-10.000 um) for 'Cloud - White'.\n",
      "\n",
      "4504\n",
      "Ready to Make Plots\n"
     ]
    }
   ],
   "source": [
    "nir.write(scope=\"NIRSpec-2700\", exposure_count=110, exposure_time=4,\n",
    "        rad_units=\"rel\")\n",
    "nir.send()\n",
    "nir.plot_setup()"
   ]
  },
  {
   "cell_type": "markdown",
   "metadata": {},
   "source": [
    "## MIRI"
   ]
  },
  {
   "cell_type": "code",
   "execution_count": 120,
   "metadata": {
    "ExecuteTime": {
     "end_time": "2018-06-10T13:34:39.743591-06:00",
     "start_time": "2018-06-10T13:34:39.678593Z"
    }
   },
   "outputs": [
    {
     "name": "stdout",
     "output_type": "stream",
     "text": [
      "Calculating Planet Data\n",
      "    Planet not found. Inupts must be given manually.\n",
      "    Using terminator profile\n"
     ]
    }
   ],
   "source": [
    "miri = PSG.PSG(\"Gatlin b\", gcmfiles[0], is_earth=True,\n",
    "               atmosphere_ceiling=1e-6, n_uplayers=7)\n",
    "miri.calculate(skprow=11)"
   ]
  },
  {
   "cell_type": "code",
   "execution_count": 121,
   "metadata": {
    "ExecuteTime": {
     "end_time": "2018-06-10T13:34:39.772139-06:00",
     "start_time": "2018-06-10T13:34:39.743591Z"
    }
   },
   "outputs": [],
   "source": [
    "# Input custom values\n",
    "miri.planet_data[\"SemiMajorAxis\"]\n",
    "miri.planet_data[\"Inclination\"] = 90.\n",
    "miri.planet_data[\"Insolation\"] = 1650.\n",
    "miri.star_data[\"Temperature\"] = 3300.\n",
    "miri.star_data[\"SRadius\"] = 0.137\n",
    "miri.star_data[\"Magnitude\"] = 14\n",
    "miri.star_data[\"Mass\"] = 0.25"
   ]
  },
  {
   "cell_type": "code",
   "execution_count": 122,
   "metadata": {
    "ExecuteTime": {
     "end_time": "2018-06-10T13:34:50.218293-06:00",
     "start_time": "2018-06-10T13:34:39.772139Z"
    }
   },
   "outputs": [
    {
     "name": "stdout",
     "output_type": "stream",
     "text": [
      "    Successfully added 7 layers to the atmosphere\n",
      "    Successfully created PSG Config file from GCM results for ExoEarth like Gatlin b\n",
      "    The file's name is t3300_s1650_p19.5724_terminator_psginput.txt\n",
      "Sending to PSG\n",
      "    Successfully connected to NASA PSG\n",
      "    8 files created\n",
      "    PSG returned an error or warning:\n",
      "WARNING | PUMAS | Requested aerosol size (14.000 um) is out of range (0.010-10.000 um) for 'Cloud - White'.\n",
      "\n",
      "4162\n",
      "Ready to Make Plots\n"
     ]
    }
   ],
   "source": [
    "miri.write(scope=\"MIRI-MRS\", exposure_count=110, exposure_time=12,\n",
    "        rad_units=\"rel\")\n",
    "miri.send()\n",
    "miri.plot_setup()"
   ]
  },
  {
   "cell_type": "code",
   "execution_count": 123,
   "metadata": {
    "ExecuteTime": {
     "end_time": "2018-06-10T13:34:50.289777-06:00",
     "start_time": "2018-06-10T13:34:50.218293Z"
    }
   },
   "outputs": [
    {
     "name": "stdout",
     "output_type": "stream",
     "text": [
      "Calculating Planet Data\n",
      "    Planet not found. Inupts must be given manually.\n",
      "    Using terminator profile\n"
     ]
    }
   ],
   "source": [
    "nirc = PSG.PSG(\"Gatlin b\", gcmfiles[0], is_earth=True,\n",
    "               atmosphere_ceiling=1e-6, n_uplayers=7)\n",
    "nirc.calculate(skprow=11)"
   ]
  },
  {
   "cell_type": "code",
   "execution_count": 124,
   "metadata": {
    "ExecuteTime": {
     "end_time": "2018-06-10T13:34:50.344776-06:00",
     "start_time": "2018-06-10T13:34:50.289777Z"
    }
   },
   "outputs": [],
   "source": [
    "# Input custom values\n",
    "nirc.planet_data[\"SemiMajorAxis\"]\n",
    "nirc.planet_data[\"Inclination\"] = 90.\n",
    "nirc.planet_data[\"Insolation\"] = 1650.\n",
    "nirc.star_data[\"Temperature\"] = 3300.\n",
    "nirc.star_data[\"SRadius\"] = 0.137\n",
    "nirc.star_data[\"Magnitude\"] = 14\n",
    "nirc.star_data[\"Mass\"] = 0.25"
   ]
  },
  {
   "cell_type": "code",
   "execution_count": 125,
   "metadata": {
    "ExecuteTime": {
     "end_time": "2018-06-10T13:34:54.568692-06:00",
     "start_time": "2018-06-10T13:34:50.344776Z"
    }
   },
   "outputs": [
    {
     "name": "stdout",
     "output_type": "stream",
     "text": [
      "    Successfully added 7 layers to the atmosphere\n",
      "    Successfully created PSG Config file from GCM results for ExoEarth like Gatlin b\n",
      "    The file's name is t3300_s1650_p19.5724_terminator_NIRCam-Grism_psginput.txt\n",
      "Sending to PSG\n",
      "    Successfully connected to NASA PSG\n",
      "    8 files created\n",
      "    PSG returned an error or warning:\n",
      "WARNING | PUMAS | Requested aerosol size (14.000 um) is out of range (0.010-10.000 um) for 'Cloud - White'.\n",
      "\n",
      "1110\n",
      "Ready to Make Plots\n"
     ]
    }
   ],
   "source": [
    "nirc.write(scope=\"NIRCam-Grism\", exposure_count=110, exposure_time=1,\n",
    "        rad_units=\"rel\")\n",
    "nirc.send()\n",
    "nirc.plot_setup()"
   ]
  },
  {
   "cell_type": "code",
   "execution_count": 126,
   "metadata": {
    "ExecuteTime": {
     "end_time": "2018-06-10T13:34:54.633977-06:00",
     "start_time": "2018-06-10T13:34:54.568692Z"
    }
   },
   "outputs": [
    {
     "name": "stdout",
     "output_type": "stream",
     "text": [
      "Calculating Planet Data\n",
      "    Planet not found. Inupts must be given manually.\n",
      "    Using terminator profile\n"
     ]
    }
   ],
   "source": [
    "soss = PSG.PSG(\"Gatlin b\", gcmfiles[0], is_earth=True,\n",
    "               atmosphere_ceiling=1e-6, n_uplayers=7)\n",
    "soss.calculate(skprow=11)"
   ]
  },
  {
   "cell_type": "code",
   "execution_count": 127,
   "metadata": {
    "ExecuteTime": {
     "end_time": "2018-06-10T13:34:54.763657-06:00",
     "start_time": "2018-06-10T13:34:54.633977Z"
    }
   },
   "outputs": [],
   "source": [
    "# Input custom values\n",
    "soss.planet_data[\"SemiMajorAxis\"]\n",
    "soss.planet_data[\"Inclination\"] = 90.\n",
    "soss.planet_data[\"Insolation\"] = 1650.\n",
    "soss.star_data[\"Temperature\"] = 3300.\n",
    "soss.star_data[\"SRadius\"] = 0.137\n",
    "soss.star_data[\"Magnitude\"] = 14\n",
    "soss.star_data[\"Mass\"] = 0.25"
   ]
  },
  {
   "cell_type": "code",
   "execution_count": 128,
   "metadata": {
    "ExecuteTime": {
     "end_time": "2018-06-10T13:35:01.992076-06:00",
     "start_time": "2018-06-10T13:34:54.763657Z"
    }
   },
   "outputs": [
    {
     "name": "stdout",
     "output_type": "stream",
     "text": [
      "    Successfully added 7 layers to the atmosphere\n",
      "    Successfully created PSG Config file from GCM results for ExoEarth like Gatlin b\n",
      "    The file's name is t3300_s1650_p19.5724_terminator_NIRISS-SOSS_psginput.txt\n",
      "Sending to PSG\n",
      "    Successfully connected to NASA PSG\n",
      "    8 files created\n",
      "    PSG returned an error or warning:\n",
      "WARNING | PUMAS | Requested aerosol size (14.000 um) is out of range (0.010-10.000 um) for 'Cloud - White'.\n",
      "\n",
      "1080\n",
      "Ready to Make Plots\n"
     ]
    }
   ],
   "source": [
    "soss.write(scope=\"NIRISS-SOSS\", exposure_count=110, exposure_time=3,\n",
    "        rad_units=\"rel\")\n",
    "soss.send()\n",
    "soss.plot_setup()"
   ]
  },
  {
   "cell_type": "code",
   "execution_count": 129,
   "metadata": {
    "ExecuteTime": {
     "end_time": "2018-06-10T13:35:02.060861-06:00",
     "start_time": "2018-06-10T13:35:01.992076Z"
    }
   },
   "outputs": [
    {
     "name": "stdout",
     "output_type": "stream",
     "text": [
      "Calculating Planet Data\n",
      "    Planet not found. Inupts must be given manually.\n",
      "    Using terminator profile\n"
     ]
    }
   ],
   "source": [
    "background = PSG.PSG(\"Gatlin b\", gcmfiles[0], is_earth=True,\n",
    "                     atmosphere_ceiling=1e-6, n_uplayers=7)\n",
    "background.calculate()\n",
    "background.zero_atmosphere()"
   ]
  },
  {
   "cell_type": "code",
   "execution_count": 130,
   "metadata": {
    "ExecuteTime": {
     "end_time": "2018-06-10T13:35:02.104411-06:00",
     "start_time": "2018-06-10T13:35:02.060861Z"
    }
   },
   "outputs": [],
   "source": [
    "# Input custom values\n",
    "background.planet_data[\"SemiMajorAxis\"]\n",
    "background.planet_data[\"Inclination\"] = 90.\n",
    "background.planet_data[\"Insolation\"] = 1650.\n",
    "background.star_data[\"Temperature\"] = 3300.\n",
    "background.star_data[\"SRadius\"] = 0.137\n",
    "background.star_data[\"Magnitude\"] = 14\n",
    "background.star_data[\"Mass\"] = 0.25"
   ]
  },
  {
   "cell_type": "code",
   "execution_count": 131,
   "metadata": {
    "ExecuteTime": {
     "end_time": "2018-06-10T13:35:05.870303-06:00",
     "start_time": "2018-06-10T13:35:02.104411Z"
    }
   },
   "outputs": [
    {
     "name": "stdout",
     "output_type": "stream",
     "text": [
      "    Successfully added 7 layers to the atmosphere\n",
      "    Successfully created PSG Config file from GCM results for ExoEarth like Gatlin b\n",
      "    The file's name is t3300_s1650_p19.5724_terminator_psginput.txt\n",
      "Sending to PSG\n",
      "    Successfully connected to NASA PSG\n",
      "    5 files created\n",
      "    PSG returned an error or warning:\n",
      "ERROR | PUMAS | Atmospheric pressure is incorrect.\n",
      "\n",
      "4162\n",
      "Ready to Make Plots\n"
     ]
    }
   ],
   "source": [
    "background.write(scope=\"MIRI-MRS\", exposure_time=12, exposure_count=110,\n",
    "                rad_units=\"rel\")\n",
    "background.send()\n",
    "background.plot_setup()"
   ]
  },
  {
   "cell_type": "code",
   "execution_count": 133,
   "metadata": {
    "ExecuteTime": {
     "end_time": "2018-06-10T13:35:38.599104-06:00",
     "start_time": "2018-06-10T13:35:38.438579Z"
    }
   },
   "outputs": [
    {
     "data": {
      "text/plain": [
       "<matplotlib.legend.Legend at 0x2354b6ed5f8>"
      ]
     },
     "execution_count": 133,
     "metadata": {},
     "output_type": "execute_result"
    },
    {
     "data": {
      "image/png": "[encoded data removed]",
      "text/plain": [
       "<matplotlib.figure.Figure at 0x2354b858978>"
      ]
     },
     "metadata": {},
     "output_type": "display_data"
    }
   ],
   "source": [
    "fig = plt.figure(figsize=(12, 4))\n",
    "ax = fig.gca()\n",
    "#ax.step(nir.Wavelengths, nir.Transit*1e6, label=\"NIRSpec\")\n",
    "ax.step(miri.Wavelengths, miri.Transit*1e6-background.Transit*1e6, label=\"MIRI\")\n",
    "#ax.step(nirc.Wavelengths, nirc.Transit*1e6, label=\"NIRCam\")\n",
    "#ax.step(soss.Wavelengths, soss.Transit*1e6, label=\"NIRI-SOSS\")\n",
    "ax.set_title(\"Gatlin b with NIRSpec-2700\")\n",
    "ax.set_xlabel(\"Wavelengths ($\\mu m$)\")\n",
    "ax.set_ylabel(\"Transit Depth (ppm)\")\n",
    "ax.set_xlim(0,9)\n",
    "ax.legend()"
   ]
  },
  {
   "cell_type": "code",
   "execution_count": 116,
   "metadata": {
    "ExecuteTime": {
     "end_time": "2018-06-10T13:34:09.158979-06:00",
     "start_time": "2018-06-10T13:34:09.151782Z"
    }
   },
   "outputs": [
    {
     "data": {
      "text/plain": [
       "array([ True,  True,  True,  True,  True,  True,  True,  True,  True,\n",
       "        True,  True])"
      ]
     },
     "execution_count": 116,
     "metadata": {},
     "output_type": "execute_result"
    }
   ],
   "source": [
    "np.logical_or(np.array(miri.atmosphere.keys()) != \"Layer\",\n",
    "              np.array(miri.atmosphere.keys()) != \"Heights\")"
   ]
  },
  {
   "cell_type": "code",
   "execution_count": 99,
   "metadata": {
    "ExecuteTime": {
     "end_time": "2018-06-10T13:29:18.482338-06:00",
     "start_time": "2018-06-10T13:29:18.324834Z"
    }
   },
   "outputs": [
    {
     "data": {
      "text/plain": [
       "['Layer',\n",
       " 'Height',\n",
       " 'Pressure',\n",
       " 'Temperature',\n",
       " 'N2',\n",
       " 'CO2',\n",
       " 'H2O',\n",
       " 'LiquidCloud',\n",
       " 'IceCloud',\n",
       " 'LiquidCloudSize',\n",
       " 'IceCloudSize']"
      ]
     },
     "execution_count": 99,
     "metadata": {},
     "output_type": "execute_result"
    }
   ],
   "source": [
    "miri.atmosphere.keys()"
   ]
  },
  {
   "cell_type": "code",
   "execution_count": null,
   "metadata": {},
   "outputs": [],
   "source": []
  }
 ],
 "metadata": {
  "kernelspec": {
   "display_name": "Python [conda env:snakes]",
   "language": "python",
   "name": "conda-env-snakes-py"
  },
  "language_info": {
   "codemirror_mode": {
    "name": "ipython",
    "version": 3
   },
   "file_extension": ".py",
   "mimetype": "text/x-python",
   "name": "python",
   "nbconvert_exporter": "python",
   "pygments_lexer": "ipython3",
   "version": "3.6.4"
  },
  "latex_envs": {
   "LaTeX_envs_menu_present": true,
   "autoclose": false,
   "autocomplete": true,
   "bibliofile": "biblio.bib",
   "cite_by": "apalike",
   "current_citInitial": 1,
   "eqLabelWithNumbers": true,
   "eqNumInitial": 1,
   "hotkeys": {
    "equation": "Ctrl-E",
    "itemize": "Ctrl-I"
   },
   "labels_anchors": false,
   "latex_user_defs": false,
   "report_style_numbering": false,
   "user_envs_cfg": false
  },
  "toc": {
   "base_numbering": 1,
   "nav_menu": {},
   "number_sections": true,
   "sideBar": true,
   "skip_h1_title": false,
   "title_cell": "Table of Contents",
   "title_sidebar": "Contents",
   "toc_cell": true,
   "toc_position": {},
   "toc_section_display": true,
   "toc_window_display": true
  }
 },
 "nbformat": 4,
 "nbformat_minor": 2
}
