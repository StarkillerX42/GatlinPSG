{
 "cells": [
  {
   "cell_type": "markdown",
   "metadata": {
    "toc": true
   },
   "source": [
    "<h1>Table of Contents<span class=\"tocSkip\"></span></h1>\n",
    "<div class=\"toc\"><ul class=\"toc-item\"><li><span><a href=\"#Phase-Curves-from-NetCDF-Files-2018-08-13\" data-toc-modified-id=\"Phase-Curves-from-NetCDF-Files-2018-08-13-1\"><span class=\"toc-item-num\">1&nbsp;&nbsp;</span>Phase Curves from NetCDF Files 2018-08-13</a></span><ul class=\"toc-item\"><li><span><a href=\"#MIRI-MRS\" data-toc-modified-id=\"MIRI-MRS-1.1\"><span class=\"toc-item-num\">1.1&nbsp;&nbsp;</span>MIRI-MRS</a></span></li><li><span><a href=\"#OST-Test\" data-toc-modified-id=\"OST-Test-1.2\"><span class=\"toc-item-num\">1.2&nbsp;&nbsp;</span>OST Test</a></span></li><li><span><a href=\"#Standard-Transits-(for-reference)\" data-toc-modified-id=\"Standard-Transits-(for-reference)-1.3\"><span class=\"toc-item-num\">1.3&nbsp;&nbsp;</span>Standard Transits (for reference)</a></span></li></ul></li></ul></div>"
   ]
  },
  {
   "cell_type": "code",
   "execution_count": 1,
   "metadata": {
    "ExecuteTime": {
     "end_time": "2019-01-05T00:49:31.765225-07:00",
     "start_time": "2019-01-05T00:49:23.712952Z"
    }
   },
   "outputs": [],
   "source": [
    "import starcoder42 as s\n",
    "import sys\n",
    "sys.path.append(\"..\")\n",
    "import PSG\n",
    "import glob\n",
    "import numpy as np\n",
    "import matplotlib.pyplot as plt\n",
    "%matplotlib inline\n",
    "import winsound"
   ]
  },
  {
   "cell_type": "code",
   "execution_count": 2,
   "metadata": {
    "ExecuteTime": {
     "end_time": "2019-01-05T00:49:31.775217-07:00",
     "start_time": "2019-01-05T00:49:31.767210Z"
    }
   },
   "outputs": [
    {
     "data": {
      "text/plain": [
       "<module 'PSG' from '..\\\\PSG.py'>"
      ]
     },
     "execution_count": 2,
     "metadata": {},
     "output_type": "execute_result"
    }
   ],
   "source": [
    "s.reload(PSG)"
   ]
  },
  {
   "cell_type": "code",
   "execution_count": 3,
   "metadata": {
    "ExecuteTime": {
     "end_time": "2019-01-05T00:49:31.977356-07:00",
     "start_time": "2019-01-05T00:49:31.776204Z"
    }
   },
   "outputs": [
    {
     "name": "stdout",
     "output_type": "stream",
     "text": [
      "Using file trappist1e_1barN2_0.4barCO2_aqua.cam.h0.avg.nc\n"
     ]
    }
   ],
   "source": [
    "files = glob.glob(\"*cam.h0.avg.nc\")\n",
    "file = files[0]\n",
    "print(\"Using file {}\".format(file))"
   ]
  },
  {
   "cell_type": "markdown",
   "metadata": {},
   "source": [
    "## Phase Curves from NetCDF Files 2018-08-13\n",
    "### MIRI-MRS"
   ]
  },
  {
   "cell_type": "code",
   "execution_count": 5,
   "metadata": {
    "ExecuteTime": {
     "end_time": "2019-01-05T00:49:44.323019-07:00",
     "start_time": "2019-01-05T00:49:44.319022Z"
    }
   },
   "outputs": [],
   "source": [
    "phases = np.arange(0, 360, 5)\n",
    "obj_list = []\n",
    "successful = []"
   ]
  },
  {
   "cell_type": "code",
   "execution_count": 6,
   "metadata": {
    "ExecuteTime": {
     "end_time": "2019-01-05T01:04:27.914270-07:00",
     "start_time": "2019-01-05T00:49:53.076358Z"
    },
    "scrolled": true
   },
   "outputs": [
    {
     "name": "stdout",
     "output_type": "stream",
     "text": [
      "0\n",
      "Starting PSG for TRAPPIST-1 e\n",
      "    Retrieving planet variables from NASA's Exoplanet Archive\n",
      "    Exoplanet Archive fetched. planet_data and star_data filled\n",
      "    Accessing netCDF contents\n",
      "    Output file written to trappist1e_1barN2_0.4barCO2_aqua_0_pro.txt\n",
      "    Atmosphere Profile File Read\n",
      "    Added 7 layers to the atmosphere\n",
      "    Successfully created PSG Config file from GCM results for TRAPPIST-1 e\n",
      "    The file's name is trappist1e_1barN2_0.4barCO2_0_psginput.txt\n",
      "    Sending to PSG\n",
      "    Successfully connected to NASA PSG\n",
      "    8 files created\n",
      "    PSG returned an error or warning:\n",
      "WARNING | PUMAS | The requested calculation is too expensive (by 13) - Disabling scattering.\n",
      "\n",
      "    Ready to Make Plots\n",
      "1\n",
      "Starting PSG for TRAPPIST-1 e\n",
      "    Exoplanet Archive fetched. planet_data and star_data filled\n",
      "    Accessing netCDF contents\n",
      "    Output file written to trappist1e_1barN2_0.4barCO2_aqua_5_pro.txt\n",
      "    Atmosphere Profile File Read\n",
      "    Added 7 layers to the atmosphere\n",
      "    Successfully created PSG Config file from GCM results for TRAPPIST-1 e\n",
      "    The file's name is trappist1e_1barN2_0.4barCO2_5_psginput.txt\n",
      "    Sending to PSG\n",
      "    Successfully connected to NASA PSG\n",
      "    8 files created\n",
      "    PSG returned an error or warning:\n",
      "WARNING | PUMAS | The requested calculation is too expensive (by 13) - Disabling scattering.\n",
      "\n",
      "    Exoplanet wasn't transitting\n",
      "    Ready to Make Plots\n",
      "2\n",
      "Starting PSG for TRAPPIST-1 e\n",
      "    Exoplanet Archive fetched. planet_data and star_data filled\n",
      "    Accessing netCDF contents\n",
      "    Output file written to trappist1e_1barN2_0.4barCO2_aqua_10_pro.txt\n",
      "    Atmosphere Profile File Read\n",
      "    Added 7 layers to the atmosphere\n",
      "    Successfully created PSG Config file from GCM results for TRAPPIST-1 e\n",
      "    The file's name is trappist1e_1barN2_0.4barCO2_10_psginput.txt\n",
      "    Sending to PSG\n",
      "    Successfully connected to NASA PSG\n",
      "    8 files created\n",
      "    PSG returned an error or warning:\n",
      "WARNING | PUMAS | The requested calculation is too expensive (by 13) - Disabling scattering.\n",
      "\n",
      "    Exoplanet wasn't transitting\n",
      "    Ready to Make Plots\n",
      "3\n",
      "Starting PSG for TRAPPIST-1 e\n",
      "    Exoplanet Archive fetched. planet_data and star_data filled\n",
      "    Accessing netCDF contents\n",
      "    Output file written to trappist1e_1barN2_0.4barCO2_aqua_15_pro.txt\n",
      "    Atmosphere Profile File Read\n",
      "    Added 7 layers to the atmosphere\n",
      "    Successfully created PSG Config file from GCM results for TRAPPIST-1 e\n",
      "    The file's name is trappist1e_1barN2_0.4barCO2_15_psginput.txt\n",
      "    Sending to PSG\n",
      "    Successfully connected to NASA PSG\n",
      "    8 files created\n",
      "    PSG returned an error or warning:\n",
      "WARNING | PUMAS | The requested calculation is too expensive (by 13) - Disabling scattering.\n",
      "\n",
      "    Exoplanet wasn't transitting\n",
      "    Ready to Make Plots\n",
      "4\n",
      "Starting PSG for TRAPPIST-1 e\n",
      "    Exoplanet Archive fetched. planet_data and star_data filled\n",
      "    Accessing netCDF contents\n",
      "    Output file written to trappist1e_1barN2_0.4barCO2_aqua_20_pro.txt\n",
      "    Atmosphere Profile File Read\n",
      "    Added 7 layers to the atmosphere\n",
      "    Successfully created PSG Config file from GCM results for TRAPPIST-1 e\n",
      "    The file's name is trappist1e_1barN2_0.4barCO2_20_psginput.txt\n",
      "    Sending to PSG\n",
      "    Successfully connected to NASA PSG\n",
      "    8 files created\n",
      "    PSG returned an error or warning:\n",
      "WARNING | PUMAS | The requested calculation is too expensive (by 13) - Disabling scattering.\n",
      "\n",
      "    Exoplanet wasn't transitting\n",
      "    Ready to Make Plots\n",
      "5\n",
      "Starting PSG for TRAPPIST-1 e\n",
      "    Exoplanet Archive fetched. planet_data and star_data filled\n",
      "    Accessing netCDF contents\n",
      "    Output file written to trappist1e_1barN2_0.4barCO2_aqua_25_pro.txt\n",
      "    Atmosphere Profile File Read\n",
      "    Added 7 layers to the atmosphere\n",
      "    Successfully created PSG Config file from GCM results for TRAPPIST-1 e\n",
      "    The file's name is trappist1e_1barN2_0.4barCO2_25_psginput.txt\n",
      "    Sending to PSG\n",
      "    Successfully connected to NASA PSG\n",
      "    8 files created\n",
      "    PSG returned an error or warning:\n",
      "WARNING | PUMAS | The requested calculation is too expensive (by 13) - Disabling scattering.\n",
      "\n",
      "    Exoplanet wasn't transitting\n",
      "    Ready to Make Plots\n",
      "6\n",
      "Starting PSG for TRAPPIST-1 e\n",
      "    Exoplanet Archive fetched. planet_data and star_data filled\n",
      "    Accessing netCDF contents\n",
      "    Output file written to trappist1e_1barN2_0.4barCO2_aqua_30_pro.txt\n",
      "    Atmosphere Profile File Read\n",
      "    Added 7 layers to the atmosphere\n",
      "    Successfully created PSG Config file from GCM results for TRAPPIST-1 e\n",
      "    The file's name is trappist1e_1barN2_0.4barCO2_30_psginput.txt\n",
      "    Sending to PSG\n",
      "    Successfully connected to NASA PSG\n",
      "    8 files created\n",
      "    PSG returned an error or warning:\n",
      "WARNING | PUMAS | The requested calculation is too expensive (by 13) - Disabling scattering.\n",
      "\n",
      "    Exoplanet wasn't transitting\n",
      "    Ready to Make Plots\n",
      "7\n",
      "Starting PSG for TRAPPIST-1 e\n",
      "    Exoplanet Archive fetched. planet_data and star_data filled\n",
      "    Accessing netCDF contents\n",
      "    Output file written to trappist1e_1barN2_0.4barCO2_aqua_35_pro.txt\n",
      "    Atmosphere Profile File Read\n",
      "    Added 7 layers to the atmosphere\n",
      "    Successfully created PSG Config file from GCM results for TRAPPIST-1 e\n",
      "    The file's name is trappist1e_1barN2_0.4barCO2_35_psginput.txt\n",
      "    Sending to PSG\n",
      "    Successfully connected to NASA PSG\n",
      "    8 files created\n",
      "    PSG returned an error or warning:\n",
      "WARNING | PUMAS | The requested calculation is too expensive (by 13) - Disabling scattering.\n",
      "\n",
      "    Exoplanet wasn't transitting\n",
      "    Ready to Make Plots\n",
      "8\n",
      "Starting PSG for TRAPPIST-1 e\n",
      "    Exoplanet Archive fetched. planet_data and star_data filled\n",
      "    Accessing netCDF contents\n",
      "    Output file written to trappist1e_1barN2_0.4barCO2_aqua_40_pro.txt\n",
      "    Atmosphere Profile File Read\n",
      "    Added 7 layers to the atmosphere\n",
      "    Successfully created PSG Config file from GCM results for TRAPPIST-1 e\n",
      "    The file's name is trappist1e_1barN2_0.4barCO2_40_psginput.txt\n",
      "    Sending to PSG\n",
      "    Successfully connected to NASA PSG\n",
      "    8 files created\n",
      "    PSG returned an error or warning:\n",
      "WARNING | PUMAS | The requested calculation is too expensive (by 13) - Disabling scattering.\n",
      "\n",
      "    Exoplanet wasn't transitting\n",
      "    Ready to Make Plots\n",
      "9\n",
      "Starting PSG for TRAPPIST-1 e\n",
      "    Exoplanet Archive fetched. planet_data and star_data filled\n",
      "    Accessing netCDF contents\n",
      "    Output file written to trappist1e_1barN2_0.4barCO2_aqua_45_pro.txt\n",
      "    Atmosphere Profile File Read\n",
      "    Added 7 layers to the atmosphere\n",
      "    Successfully created PSG Config file from GCM results for TRAPPIST-1 e\n",
      "    The file's name is trappist1e_1barN2_0.4barCO2_45_psginput.txt\n",
      "    Sending to PSG\n",
      "    Successfully connected to NASA PSG\n",
      "    8 files created\n",
      "    PSG returned an error or warning:\n",
      "WARNING | PUMAS | The requested calculation is too expensive (by 13) - Disabling scattering.\n",
      "\n",
      "    Exoplanet wasn't transitting\n",
      "    Ready to Make Plots\n",
      "10\n",
      "Starting PSG for TRAPPIST-1 e\n",
      "    Exoplanet Archive fetched. planet_data and star_data filled\n",
      "    Accessing netCDF contents\n",
      "    Output file written to trappist1e_1barN2_0.4barCO2_aqua_50_pro.txt\n",
      "    Atmosphere Profile File Read\n",
      "    Added 7 layers to the atmosphere\n",
      "    Successfully created PSG Config file from GCM results for TRAPPIST-1 e\n",
      "    The file's name is trappist1e_1barN2_0.4barCO2_50_psginput.txt\n",
      "    Sending to PSG\n",
      "    Successfully connected to NASA PSG\n",
      "    8 files created\n",
      "    PSG returned an error or warning:\n",
      "WARNING | PUMAS | The requested calculation is too expensive (by 13) - Disabling scattering.\n",
      "\n",
      "    Exoplanet wasn't transitting\n",
      "    Ready to Make Plots\n",
      "11\n",
      "Starting PSG for TRAPPIST-1 e\n",
      "    Exoplanet Archive fetched. planet_data and star_data filled\n",
      "    Accessing netCDF contents\n",
      "    Output file written to trappist1e_1barN2_0.4barCO2_aqua_55_pro.txt\n",
      "    Atmosphere Profile File Read\n",
      "    Added 7 layers to the atmosphere\n",
      "    Successfully created PSG Config file from GCM results for TRAPPIST-1 e\n",
      "    The file's name is trappist1e_1barN2_0.4barCO2_55_psginput.txt\n",
      "    Sending to PSG\n",
      "    Successfully connected to NASA PSG\n",
      "    8 files created\n",
      "    PSG returned an error or warning:\n",
      "WARNING | PUMAS | The requested calculation is too expensive (by 13) - Disabling scattering.\n",
      "\n",
      "    Exoplanet wasn't transitting\n",
      "    Ready to Make Plots\n",
      "12\n",
      "Starting PSG for TRAPPIST-1 e\n",
      "    Exoplanet Archive fetched. planet_data and star_data filled\n",
      "    Accessing netCDF contents\n"
     ]
    },
    {
     "name": "stdout",
     "output_type": "stream",
     "text": [
      "    Output file written to trappist1e_1barN2_0.4barCO2_aqua_60_pro.txt\n",
      "    Atmosphere Profile File Read\n",
      "    Added 7 layers to the atmosphere\n",
      "    Successfully created PSG Config file from GCM results for TRAPPIST-1 e\n",
      "    The file's name is trappist1e_1barN2_0.4barCO2_60_psginput.txt\n",
      "    Sending to PSG\n",
      "    Successfully connected to NASA PSG\n",
      "    8 files created\n",
      "    PSG returned an error or warning:\n",
      "WARNING | PUMAS | The requested calculation is too expensive (by 13) - Disabling scattering.\n",
      "\n",
      "    Exoplanet wasn't transitting\n",
      "    Ready to Make Plots\n",
      "13\n",
      "Starting PSG for TRAPPIST-1 e\n",
      "    Exoplanet Archive fetched. planet_data and star_data filled\n",
      "    Accessing netCDF contents\n",
      "    Output file written to trappist1e_1barN2_0.4barCO2_aqua_65_pro.txt\n",
      "    Atmosphere Profile File Read\n",
      "    Added 7 layers to the atmosphere\n",
      "    Successfully created PSG Config file from GCM results for TRAPPIST-1 e\n",
      "    The file's name is trappist1e_1barN2_0.4barCO2_65_psginput.txt\n",
      "    Sending to PSG\n",
      "    Successfully connected to NASA PSG\n",
      "    8 files created\n",
      "    PSG returned an error or warning:\n",
      "WARNING | PUMAS | The requested calculation is too expensive (by 13) - Disabling scattering.\n",
      "\n",
      "    Exoplanet wasn't transitting\n",
      "    Ready to Make Plots\n",
      "14\n",
      "Starting PSG for TRAPPIST-1 e\n",
      "    Exoplanet Archive fetched. planet_data and star_data filled\n",
      "    Accessing netCDF contents\n",
      "    Output file written to trappist1e_1barN2_0.4barCO2_aqua_70_pro.txt\n",
      "    Atmosphere Profile File Read\n",
      "    Added 7 layers to the atmosphere\n",
      "    Successfully created PSG Config file from GCM results for TRAPPIST-1 e\n",
      "    The file's name is trappist1e_1barN2_0.4barCO2_70_psginput.txt\n",
      "    Sending to PSG\n",
      "    Successfully connected to NASA PSG\n",
      "    8 files created\n",
      "    PSG returned an error or warning:\n",
      "WARNING | PUMAS | The requested calculation is too expensive (by 13) - Disabling scattering.\n",
      "\n",
      "    Exoplanet wasn't transitting\n",
      "    Ready to Make Plots\n",
      "15\n",
      "Starting PSG for TRAPPIST-1 e\n",
      "    Exoplanet Archive fetched. planet_data and star_data filled\n",
      "    Accessing netCDF contents\n",
      "    Output file written to trappist1e_1barN2_0.4barCO2_aqua_75_pro.txt\n",
      "    Atmosphere Profile File Read\n",
      "    Added 7 layers to the atmosphere\n",
      "    Successfully created PSG Config file from GCM results for TRAPPIST-1 e\n",
      "    The file's name is trappist1e_1barN2_0.4barCO2_75_psginput.txt\n",
      "    Sending to PSG\n",
      "    Successfully connected to NASA PSG\n",
      "    8 files created\n",
      "    PSG returned an error or warning:\n",
      "WARNING | PUMAS | The requested calculation is too expensive (by 13) - Disabling scattering.\n",
      "\n",
      "    Exoplanet wasn't transitting\n",
      "    Ready to Make Plots\n",
      "16\n",
      "Starting PSG for TRAPPIST-1 e\n",
      "    Exoplanet Archive fetched. planet_data and star_data filled\n",
      "    Accessing netCDF contents\n",
      "    Output file written to trappist1e_1barN2_0.4barCO2_aqua_80_pro.txt\n",
      "    Atmosphere Profile File Read\n",
      "    Added 7 layers to the atmosphere\n",
      "    Successfully created PSG Config file from GCM results for TRAPPIST-1 e\n",
      "    The file's name is trappist1e_1barN2_0.4barCO2_80_psginput.txt\n",
      "    Sending to PSG\n",
      "    Successfully connected to NASA PSG\n",
      "    8 files created\n",
      "    PSG returned an error or warning:\n",
      "WARNING | PUMAS | The requested calculation is too expensive (by 13) - Disabling scattering.\n",
      "\n",
      "    Exoplanet wasn't transitting\n",
      "    Ready to Make Plots\n",
      "17\n",
      "Starting PSG for TRAPPIST-1 e\n",
      "    Exoplanet Archive fetched. planet_data and star_data filled\n",
      "    Accessing netCDF contents\n",
      "    Output file written to trappist1e_1barN2_0.4barCO2_aqua_85_pro.txt\n",
      "    Atmosphere Profile File Read\n",
      "    Added 7 layers to the atmosphere\n",
      "    Successfully created PSG Config file from GCM results for TRAPPIST-1 e\n",
      "    The file's name is trappist1e_1barN2_0.4barCO2_85_psginput.txt\n",
      "    Sending to PSG\n",
      "    Successfully connected to NASA PSG\n",
      "    8 files created\n",
      "    PSG returned an error or warning:\n",
      "WARNING | PUMAS | The requested calculation is too expensive (by 13) - Disabling scattering.\n",
      "\n",
      "    Exoplanet wasn't transitting\n",
      "    Ready to Make Plots\n",
      "18\n",
      "Starting PSG for TRAPPIST-1 e\n",
      "    Exoplanet Archive fetched. planet_data and star_data filled\n",
      "    Accessing netCDF contents\n",
      "    Output file written to trappist1e_1barN2_0.4barCO2_aqua_90_pro.txt\n",
      "    Atmosphere Profile File Read\n",
      "    Added 7 layers to the atmosphere\n",
      "    Successfully created PSG Config file from GCM results for TRAPPIST-1 e\n",
      "    The file's name is trappist1e_1barN2_0.4barCO2_90_psginput.txt\n",
      "    Sending to PSG\n",
      "    Successfully connected to NASA PSG\n",
      "    8 files created\n",
      "    PSG returned an error or warning:\n",
      "WARNING | PUMAS | The requested calculation is too expensive (by 13) - Disabling scattering.\n",
      "\n",
      "    Exoplanet wasn't transitting\n",
      "    Ready to Make Plots\n",
      "19\n",
      "Starting PSG for TRAPPIST-1 e\n",
      "    Exoplanet Archive fetched. planet_data and star_data filled\n",
      "    Accessing netCDF contents\n",
      "    Output file written to trappist1e_1barN2_0.4barCO2_aqua_95_pro.txt\n",
      "    Atmosphere Profile File Read\n",
      "    Added 7 layers to the atmosphere\n",
      "    Successfully created PSG Config file from GCM results for TRAPPIST-1 e\n",
      "    The file's name is trappist1e_1barN2_0.4barCO2_95_psginput.txt\n",
      "    Sending to PSG\n",
      "    Successfully connected to NASA PSG\n",
      "    8 files created\n",
      "    PSG returned an error or warning:\n",
      "WARNING | PUMAS | The requested calculation is too expensive (by 13) - Disabling scattering.\n",
      "\n",
      "    Exoplanet wasn't transitting\n",
      "    Ready to Make Plots\n",
      "20\n",
      "Starting PSG for TRAPPIST-1 e\n",
      "    Exoplanet Archive fetched. planet_data and star_data filled\n",
      "    Accessing netCDF contents\n",
      "    Output file written to trappist1e_1barN2_0.4barCO2_aqua_100_pro.txt\n",
      "    Atmosphere Profile File Read\n",
      "    Added 7 layers to the atmosphere\n",
      "    Successfully created PSG Config file from GCM results for TRAPPIST-1 e\n",
      "    The file's name is trappist1e_1barN2_0.4barCO2_100_psginput.txt\n",
      "    Sending to PSG\n",
      "    Successfully connected to NASA PSG\n",
      "    8 files created\n",
      "    PSG returned an error or warning:\n",
      "WARNING | PUMAS | The requested calculation is too expensive (by 13) - Disabling scattering.\n",
      "\n",
      "    Exoplanet wasn't transitting\n",
      "    Ready to Make Plots\n",
      "21\n",
      "Starting PSG for TRAPPIST-1 e\n",
      "    Exoplanet Archive fetched. planet_data and star_data filled\n",
      "    Accessing netCDF contents\n",
      "    Output file written to trappist1e_1barN2_0.4barCO2_aqua_105_pro.txt\n",
      "    Atmosphere Profile File Read\n",
      "    Added 7 layers to the atmosphere\n",
      "    Successfully created PSG Config file from GCM results for TRAPPIST-1 e\n",
      "    The file's name is trappist1e_1barN2_0.4barCO2_105_psginput.txt\n",
      "    Sending to PSG\n",
      "    Successfully connected to NASA PSG\n",
      "    8 files created\n",
      "    PSG returned an error or warning:\n",
      "WARNING | PUMAS | The requested calculation is too expensive (by 13) - Disabling scattering.\n",
      "\n",
      "    Exoplanet wasn't transitting\n",
      "    Ready to Make Plots\n",
      "22\n",
      "Starting PSG for TRAPPIST-1 e\n",
      "    Exoplanet Archive fetched. planet_data and star_data filled\n",
      "    Accessing netCDF contents\n",
      "    Output file written to trappist1e_1barN2_0.4barCO2_aqua_110_pro.txt\n",
      "    Atmosphere Profile File Read\n",
      "    Added 7 layers to the atmosphere\n",
      "    Successfully created PSG Config file from GCM results for TRAPPIST-1 e\n",
      "    The file's name is trappist1e_1barN2_0.4barCO2_110_psginput.txt\n",
      "    Sending to PSG\n",
      "    Successfully connected to NASA PSG\n",
      "    8 files created\n",
      "    PSG returned an error or warning:\n",
      "WARNING | PUMAS | The requested calculation is too expensive (by 13) - Disabling scattering.\n",
      "\n",
      "    Exoplanet wasn't transitting\n",
      "    Ready to Make Plots\n",
      "23\n",
      "Starting PSG for TRAPPIST-1 e\n",
      "    Exoplanet Archive fetched. planet_data and star_data filled\n",
      "    Accessing netCDF contents\n",
      "    Output file written to trappist1e_1barN2_0.4barCO2_aqua_115_pro.txt\n",
      "    Atmosphere Profile File Read\n",
      "    Added 7 layers to the atmosphere\n",
      "    Successfully created PSG Config file from GCM results for TRAPPIST-1 e\n",
      "    The file's name is trappist1e_1barN2_0.4barCO2_115_psginput.txt\n",
      "    Sending to PSG\n",
      "    Successfully connected to NASA PSG\n",
      "    8 files created\n",
      "    PSG returned an error or warning:\n",
      "WARNING | PUMAS | The requested calculation is too expensive (by 13) - Disabling scattering.\n",
      "\n",
      "    Exoplanet wasn't transitting\n",
      "    Ready to Make Plots\n",
      "24\n",
      "Starting PSG for TRAPPIST-1 e\n",
      "    Exoplanet Archive fetched. planet_data and star_data filled\n",
      "    Accessing netCDF contents\n",
      "    Output file written to trappist1e_1barN2_0.4barCO2_aqua_120_pro.txt\n",
      "    Atmosphere Profile File Read\n",
      "    Added 7 layers to the atmosphere\n",
      "    Successfully created PSG Config file from GCM results for TRAPPIST-1 e\n",
      "    The file's name is trappist1e_1barN2_0.4barCO2_120_psginput.txt\n",
      "    Sending to PSG\n"
     ]
    },
    {
     "name": "stdout",
     "output_type": "stream",
     "text": [
      "    Successfully connected to NASA PSG\n",
      "    8 files created\n",
      "    PSG returned an error or warning:\n",
      "WARNING | PUMAS | The requested calculation is too expensive (by 13) - Disabling scattering.\n",
      "\n",
      "    Exoplanet wasn't transitting\n",
      "    Ready to Make Plots\n",
      "25\n",
      "Starting PSG for TRAPPIST-1 e\n",
      "    Exoplanet Archive fetched. planet_data and star_data filled\n",
      "    Accessing netCDF contents\n",
      "    Output file written to trappist1e_1barN2_0.4barCO2_aqua_125_pro.txt\n",
      "    Atmosphere Profile File Read\n",
      "    Added 7 layers to the atmosphere\n",
      "    Successfully created PSG Config file from GCM results for TRAPPIST-1 e\n",
      "    The file's name is trappist1e_1barN2_0.4barCO2_125_psginput.txt\n",
      "    Sending to PSG\n",
      "    Successfully connected to NASA PSG\n",
      "    8 files created\n",
      "    PSG returned an error or warning:\n",
      "WARNING | PUMAS | The requested calculation is too expensive (by 13) - Disabling scattering.\n",
      "\n",
      "    Exoplanet wasn't transitting\n",
      "    Ready to Make Plots\n",
      "26\n",
      "Starting PSG for TRAPPIST-1 e\n",
      "    Exoplanet Archive fetched. planet_data and star_data filled\n",
      "    Accessing netCDF contents\n",
      "    Output file written to trappist1e_1barN2_0.4barCO2_aqua_130_pro.txt\n",
      "    Atmosphere Profile File Read\n",
      "    Added 7 layers to the atmosphere\n",
      "    Successfully created PSG Config file from GCM results for TRAPPIST-1 e\n",
      "    The file's name is trappist1e_1barN2_0.4barCO2_130_psginput.txt\n",
      "    Sending to PSG\n",
      "    Successfully connected to NASA PSG\n",
      "    8 files created\n",
      "    PSG returned an error or warning:\n",
      "WARNING | PUMAS | The requested calculation is too expensive (by 13) - Disabling scattering.\n",
      "\n",
      "    Exoplanet wasn't transitting\n",
      "    Ready to Make Plots\n",
      "27\n",
      "Starting PSG for TRAPPIST-1 e\n",
      "    Exoplanet Archive fetched. planet_data and star_data filled\n",
      "    Accessing netCDF contents\n",
      "    Output file written to trappist1e_1barN2_0.4barCO2_aqua_135_pro.txt\n",
      "    Atmosphere Profile File Read\n",
      "    Added 7 layers to the atmosphere\n",
      "    Successfully created PSG Config file from GCM results for TRAPPIST-1 e\n",
      "    The file's name is trappist1e_1barN2_0.4barCO2_135_psginput.txt\n",
      "    Sending to PSG\n",
      "    Successfully connected to NASA PSG\n",
      "    8 files created\n",
      "    PSG returned an error or warning:\n",
      "WARNING | PUMAS | The requested calculation is too expensive (by 13) - Disabling scattering.\n",
      "\n",
      "    Exoplanet wasn't transitting\n",
      "    Ready to Make Plots\n",
      "28\n",
      "Starting PSG for TRAPPIST-1 e\n",
      "    Exoplanet Archive fetched. planet_data and star_data filled\n",
      "    Accessing netCDF contents\n",
      "    Output file written to trappist1e_1barN2_0.4barCO2_aqua_140_pro.txt\n",
      "    Atmosphere Profile File Read\n",
      "    Added 7 layers to the atmosphere\n",
      "    Successfully created PSG Config file from GCM results for TRAPPIST-1 e\n",
      "    The file's name is trappist1e_1barN2_0.4barCO2_140_psginput.txt\n",
      "    Sending to PSG\n",
      "    Successfully connected to NASA PSG\n",
      "    8 files created\n",
      "    PSG returned an error or warning:\n",
      "WARNING | PUMAS | The requested calculation is too expensive (by 13) - Disabling scattering.\n",
      "\n",
      "    Exoplanet wasn't transitting\n",
      "    Ready to Make Plots\n",
      "29\n",
      "Starting PSG for TRAPPIST-1 e\n",
      "    Exoplanet Archive fetched. planet_data and star_data filled\n",
      "    Accessing netCDF contents\n",
      "    Output file written to trappist1e_1barN2_0.4barCO2_aqua_145_pro.txt\n",
      "    Atmosphere Profile File Read\n",
      "    Added 7 layers to the atmosphere\n",
      "    Successfully created PSG Config file from GCM results for TRAPPIST-1 e\n",
      "    The file's name is trappist1e_1barN2_0.4barCO2_145_psginput.txt\n",
      "    Sending to PSG\n",
      "    Successfully connected to NASA PSG\n",
      "    8 files created\n",
      "    PSG returned an error or warning:\n",
      "WARNING | PUMAS | The requested calculation is too expensive (by 13) - Disabling scattering.\n",
      "\n",
      "    Exoplanet wasn't transitting\n",
      "    Ready to Make Plots\n",
      "30\n",
      "Starting PSG for TRAPPIST-1 e\n",
      "    Exoplanet Archive fetched. planet_data and star_data filled\n",
      "    Accessing netCDF contents\n",
      "    Output file written to trappist1e_1barN2_0.4barCO2_aqua_150_pro.txt\n",
      "    Atmosphere Profile File Read\n",
      "    Added 7 layers to the atmosphere\n",
      "    Successfully created PSG Config file from GCM results for TRAPPIST-1 e\n",
      "    The file's name is trappist1e_1barN2_0.4barCO2_150_psginput.txt\n",
      "    Sending to PSG\n",
      "    Successfully connected to NASA PSG\n",
      "    8 files created\n",
      "    PSG returned an error or warning:\n",
      "WARNING | PUMAS | The requested calculation is too expensive (by 13) - Disabling scattering.\n",
      "\n",
      "    Exoplanet wasn't transitting\n",
      "    Ready to Make Plots\n",
      "31\n",
      "Starting PSG for TRAPPIST-1 e\n",
      "    Exoplanet Archive fetched. planet_data and star_data filled\n",
      "    Accessing netCDF contents\n",
      "    Output file written to trappist1e_1barN2_0.4barCO2_aqua_155_pro.txt\n",
      "    Atmosphere Profile File Read\n",
      "    Added 7 layers to the atmosphere\n",
      "    Successfully created PSG Config file from GCM results for TRAPPIST-1 e\n",
      "    The file's name is trappist1e_1barN2_0.4barCO2_155_psginput.txt\n",
      "    Sending to PSG\n",
      "    Successfully connected to NASA PSG\n",
      "    8 files created\n",
      "    PSG returned an error or warning:\n",
      "WARNING | PUMAS | The requested calculation is too expensive (by 13) - Disabling scattering.\n",
      "\n",
      "    Exoplanet wasn't transitting\n",
      "    Ready to Make Plots\n",
      "32\n",
      "Starting PSG for TRAPPIST-1 e\n",
      "    Exoplanet Archive fetched. planet_data and star_data filled\n",
      "    Accessing netCDF contents\n",
      "    Output file written to trappist1e_1barN2_0.4barCO2_aqua_160_pro.txt\n",
      "    Atmosphere Profile File Read\n",
      "    Added 7 layers to the atmosphere\n",
      "    Successfully created PSG Config file from GCM results for TRAPPIST-1 e\n",
      "    The file's name is trappist1e_1barN2_0.4barCO2_160_psginput.txt\n",
      "    Sending to PSG\n",
      "    Successfully connected to NASA PSG\n",
      "    8 files created\n",
      "    PSG returned an error or warning:\n",
      "WARNING | PUMAS | The requested calculation is too expensive (by 13) - Disabling scattering.\n",
      "\n",
      "    Exoplanet wasn't transitting\n",
      "    Ready to Make Plots\n",
      "33\n",
      "Starting PSG for TRAPPIST-1 e\n",
      "    Exoplanet Archive fetched. planet_data and star_data filled\n",
      "    Accessing netCDF contents\n",
      "    Output file written to trappist1e_1barN2_0.4barCO2_aqua_165_pro.txt\n",
      "    Atmosphere Profile File Read\n",
      "    Added 7 layers to the atmosphere\n",
      "    Successfully created PSG Config file from GCM results for TRAPPIST-1 e\n",
      "    The file's name is trappist1e_1barN2_0.4barCO2_165_psginput.txt\n",
      "    Sending to PSG\n",
      "    Successfully connected to NASA PSG\n",
      "    8 files created\n",
      "    PSG returned an error or warning:\n",
      "WARNING | PUMAS | The requested calculation is too expensive (by 13) - Disabling scattering.\n",
      "\n",
      "    Exoplanet wasn't transitting\n",
      "    Ready to Make Plots\n",
      "34\n",
      "Starting PSG for TRAPPIST-1 e\n",
      "    Exoplanet Archive fetched. planet_data and star_data filled\n",
      "    Accessing netCDF contents\n",
      "    Output file written to trappist1e_1barN2_0.4barCO2_aqua_170_pro.txt\n",
      "    Atmosphere Profile File Read\n",
      "    Added 7 layers to the atmosphere\n",
      "    Successfully created PSG Config file from GCM results for TRAPPIST-1 e\n",
      "    The file's name is trappist1e_1barN2_0.4barCO2_170_psginput.txt\n",
      "    Sending to PSG\n",
      "    Successfully connected to NASA PSG\n",
      "    8 files created\n",
      "    PSG returned an error or warning:\n",
      "WARNING | PUMAS | The requested calculation is too expensive (by 13) - Disabling scattering.\n",
      "\n",
      "    Exoplanet wasn't transitting\n",
      "    Ready to Make Plots\n",
      "35\n",
      "Starting PSG for TRAPPIST-1 e\n",
      "    Exoplanet Archive fetched. planet_data and star_data filled\n",
      "    Accessing netCDF contents\n",
      "    Output file written to trappist1e_1barN2_0.4barCO2_aqua_175_pro.txt\n",
      "    Atmosphere Profile File Read\n",
      "    Added 7 layers to the atmosphere\n",
      "    Successfully created PSG Config file from GCM results for TRAPPIST-1 e\n",
      "    The file's name is trappist1e_1barN2_0.4barCO2_175_psginput.txt\n",
      "    Sending to PSG\n",
      "    Successfully connected to NASA PSG\n",
      "    8 files created\n",
      "    PSG returned an error or warning:\n",
      "WARNING | PUMAS | The requested calculation is too expensive (by 13) - Disabling scattering.\n",
      "\n",
      "    Exoplanet wasn't transitting\n",
      "    Ready to Make Plots\n",
      "36\n",
      "Starting PSG for TRAPPIST-1 e\n",
      "    Exoplanet Archive fetched. planet_data and star_data filled\n",
      "    Accessing netCDF contents\n",
      "    Output file written to trappist1e_1barN2_0.4barCO2_aqua_terminator.txt\n",
      "    Atmosphere Profile File Read\n",
      "    Added 7 layers to the atmosphere\n",
      "    Successfully created PSG Config file from GCM results for TRAPPIST-1 e\n",
      "    The file's name is trappist1e_1barN2_0.4barCO2_psginput.txt\n",
      "    Sending to PSG\n",
      "    Successfully connected to NASA PSG\n",
      "    8 files created\n",
      "    PSG returned an error or warning:\n",
      "WARNING | PUMAS | The requested calculation is too expensive (by 13) - Disabling scattering.\n",
      "\n"
     ]
    },
    {
     "name": "stdout",
     "output_type": "stream",
     "text": [
      "    Ready to Make Plots\n",
      "37\n",
      "Starting PSG for TRAPPIST-1 e\n",
      "    Exoplanet Archive fetched. planet_data and star_data filled\n",
      "    Accessing netCDF contents\n",
      "    Output file written to trappist1e_1barN2_0.4barCO2_aqua_185_pro.txt\n",
      "    Atmosphere Profile File Read\n",
      "    Added 7 layers to the atmosphere\n",
      "    Successfully created PSG Config file from GCM results for TRAPPIST-1 e\n",
      "    The file's name is trappist1e_1barN2_0.4barCO2_185_psginput.txt\n",
      "    Sending to PSG\n",
      "    Successfully connected to NASA PSG\n",
      "    8 files created\n",
      "    PSG returned an error or warning:\n",
      "WARNING | PUMAS | The requested calculation is too expensive (by 13) - Disabling scattering.\n",
      "\n",
      "    Exoplanet wasn't transitting\n",
      "    Ready to Make Plots\n",
      "38\n",
      "Starting PSG for TRAPPIST-1 e\n",
      "    Exoplanet Archive fetched. planet_data and star_data filled\n",
      "    Accessing netCDF contents\n",
      "    Output file written to trappist1e_1barN2_0.4barCO2_aqua_190_pro.txt\n",
      "    Atmosphere Profile File Read\n",
      "    Added 7 layers to the atmosphere\n",
      "    Successfully created PSG Config file from GCM results for TRAPPIST-1 e\n",
      "    The file's name is trappist1e_1barN2_0.4barCO2_190_psginput.txt\n",
      "    Sending to PSG\n",
      "    Successfully connected to NASA PSG\n",
      "    8 files created\n",
      "    PSG returned an error or warning:\n",
      "WARNING | PUMAS | The requested calculation is too expensive (by 13) - Disabling scattering.\n",
      "\n",
      "    Exoplanet wasn't transitting\n",
      "    Ready to Make Plots\n",
      "39\n",
      "Starting PSG for TRAPPIST-1 e\n",
      "    Exoplanet Archive fetched. planet_data and star_data filled\n",
      "    Accessing netCDF contents\n",
      "    Output file written to trappist1e_1barN2_0.4barCO2_aqua_195_pro.txt\n",
      "    Atmosphere Profile File Read\n",
      "    Added 7 layers to the atmosphere\n",
      "    Successfully created PSG Config file from GCM results for TRAPPIST-1 e\n",
      "    The file's name is trappist1e_1barN2_0.4barCO2_195_psginput.txt\n",
      "    Sending to PSG\n",
      "    Successfully connected to NASA PSG\n",
      "    8 files created\n",
      "    PSG returned an error or warning:\n",
      "WARNING | PUMAS | The requested calculation is too expensive (by 13) - Disabling scattering.\n",
      "\n",
      "    Exoplanet wasn't transitting\n",
      "    Ready to Make Plots\n",
      "40\n",
      "Starting PSG for TRAPPIST-1 e\n",
      "    Exoplanet Archive fetched. planet_data and star_data filled\n",
      "    Accessing netCDF contents\n",
      "    Output file written to trappist1e_1barN2_0.4barCO2_aqua_200_pro.txt\n",
      "    Atmosphere Profile File Read\n",
      "    Added 7 layers to the atmosphere\n",
      "    Successfully created PSG Config file from GCM results for TRAPPIST-1 e\n",
      "    The file's name is trappist1e_1barN2_0.4barCO2_200_psginput.txt\n",
      "    Sending to PSG\n",
      "    Successfully connected to NASA PSG\n",
      "    8 files created\n",
      "    PSG returned an error or warning:\n",
      "WARNING | PUMAS | The requested calculation is too expensive (by 13) - Disabling scattering.\n",
      "\n",
      "    Exoplanet wasn't transitting\n",
      "    Ready to Make Plots\n",
      "41\n",
      "Starting PSG for TRAPPIST-1 e\n",
      "    Exoplanet Archive fetched. planet_data and star_data filled\n",
      "    Accessing netCDF contents\n",
      "    Output file written to trappist1e_1barN2_0.4barCO2_aqua_205_pro.txt\n",
      "    Atmosphere Profile File Read\n",
      "    Added 7 layers to the atmosphere\n",
      "    Successfully created PSG Config file from GCM results for TRAPPIST-1 e\n",
      "    The file's name is trappist1e_1barN2_0.4barCO2_205_psginput.txt\n",
      "    Sending to PSG\n",
      "    Successfully connected to NASA PSG\n",
      "    8 files created\n",
      "    PSG returned an error or warning:\n",
      "WARNING | PUMAS | The requested calculation is too expensive (by 13) - Disabling scattering.\n",
      "\n",
      "    Exoplanet wasn't transitting\n",
      "    Ready to Make Plots\n",
      "42\n",
      "Starting PSG for TRAPPIST-1 e\n",
      "    Exoplanet Archive fetched. planet_data and star_data filled\n",
      "    Accessing netCDF contents\n",
      "    Output file written to trappist1e_1barN2_0.4barCO2_aqua_210_pro.txt\n",
      "    Atmosphere Profile File Read\n",
      "    Added 7 layers to the atmosphere\n",
      "    Successfully created PSG Config file from GCM results for TRAPPIST-1 e\n",
      "    The file's name is trappist1e_1barN2_0.4barCO2_210_psginput.txt\n",
      "    Sending to PSG\n",
      "    Successfully connected to NASA PSG\n",
      "    8 files created\n",
      "    PSG returned an error or warning:\n",
      "WARNING | PUMAS | The requested calculation is too expensive (by 13) - Disabling scattering.\n",
      "\n",
      "    Exoplanet wasn't transitting\n",
      "    Ready to Make Plots\n",
      "43\n",
      "Starting PSG for TRAPPIST-1 e\n",
      "    Exoplanet Archive fetched. planet_data and star_data filled\n",
      "    Accessing netCDF contents\n",
      "    Output file written to trappist1e_1barN2_0.4barCO2_aqua_215_pro.txt\n",
      "    Atmosphere Profile File Read\n",
      "    Added 7 layers to the atmosphere\n",
      "    Successfully created PSG Config file from GCM results for TRAPPIST-1 e\n",
      "    The file's name is trappist1e_1barN2_0.4barCO2_215_psginput.txt\n",
      "    Sending to PSG\n",
      "    Successfully connected to NASA PSG\n",
      "    8 files created\n",
      "    PSG returned an error or warning:\n",
      "WARNING | PUMAS | The requested calculation is too expensive (by 13) - Disabling scattering.\n",
      "\n",
      "    Exoplanet wasn't transitting\n",
      "    Ready to Make Plots\n",
      "44\n",
      "Starting PSG for TRAPPIST-1 e\n",
      "    Exoplanet Archive fetched. planet_data and star_data filled\n",
      "    Accessing netCDF contents\n",
      "    Output file written to trappist1e_1barN2_0.4barCO2_aqua_220_pro.txt\n",
      "    Atmosphere Profile File Read\n",
      "    Added 7 layers to the atmosphere\n",
      "    Successfully created PSG Config file from GCM results for TRAPPIST-1 e\n",
      "    The file's name is trappist1e_1barN2_0.4barCO2_220_psginput.txt\n",
      "    Sending to PSG\n",
      "    Successfully connected to NASA PSG\n",
      "    8 files created\n",
      "    PSG returned an error or warning:\n",
      "WARNING | PUMAS | The requested calculation is too expensive (by 13) - Disabling scattering.\n",
      "\n",
      "    Exoplanet wasn't transitting\n",
      "    Ready to Make Plots\n",
      "45\n",
      "Starting PSG for TRAPPIST-1 e\n",
      "    Exoplanet Archive fetched. planet_data and star_data filled\n",
      "    Accessing netCDF contents\n",
      "    Output file written to trappist1e_1barN2_0.4barCO2_aqua_225_pro.txt\n",
      "    Atmosphere Profile File Read\n",
      "    Added 7 layers to the atmosphere\n",
      "    Successfully created PSG Config file from GCM results for TRAPPIST-1 e\n",
      "    The file's name is trappist1e_1barN2_0.4barCO2_225_psginput.txt\n",
      "    Sending to PSG\n",
      "    Successfully connected to NASA PSG\n",
      "    8 files created\n",
      "    PSG returned an error or warning:\n",
      "WARNING | PUMAS | The requested calculation is too expensive (by 13) - Disabling scattering.\n",
      "\n",
      "    Exoplanet wasn't transitting\n",
      "    Ready to Make Plots\n",
      "46\n",
      "Starting PSG for TRAPPIST-1 e\n",
      "    Exoplanet Archive fetched. planet_data and star_data filled\n",
      "    Accessing netCDF contents\n",
      "    Output file written to trappist1e_1barN2_0.4barCO2_aqua_230_pro.txt\n",
      "    Atmosphere Profile File Read\n",
      "    Added 7 layers to the atmosphere\n",
      "    Successfully created PSG Config file from GCM results for TRAPPIST-1 e\n",
      "    The file's name is trappist1e_1barN2_0.4barCO2_230_psginput.txt\n",
      "    Sending to PSG\n",
      "    Successfully connected to NASA PSG\n",
      "    8 files created\n",
      "    PSG returned an error or warning:\n",
      "WARNING | PUMAS | The requested calculation is too expensive (by 13) - Disabling scattering.\n",
      "\n",
      "    Exoplanet wasn't transitting\n",
      "    Ready to Make Plots\n",
      "47\n",
      "Starting PSG for TRAPPIST-1 e\n",
      "    Exoplanet Archive fetched. planet_data and star_data filled\n",
      "    Accessing netCDF contents\n",
      "    Output file written to trappist1e_1barN2_0.4barCO2_aqua_235_pro.txt\n",
      "    Atmosphere Profile File Read\n",
      "    Added 7 layers to the atmosphere\n",
      "    Successfully created PSG Config file from GCM results for TRAPPIST-1 e\n",
      "    The file's name is trappist1e_1barN2_0.4barCO2_235_psginput.txt\n",
      "    Sending to PSG\n",
      "    Successfully connected to NASA PSG\n",
      "    8 files created\n",
      "    PSG returned an error or warning:\n",
      "WARNING | PUMAS | The requested calculation is too expensive (by 13) - Disabling scattering.\n",
      "\n",
      "    Exoplanet wasn't transitting\n",
      "    Ready to Make Plots\n",
      "48\n",
      "Starting PSG for TRAPPIST-1 e\n",
      "    Exoplanet Archive fetched. planet_data and star_data filled\n",
      "    Accessing netCDF contents\n",
      "    Output file written to trappist1e_1barN2_0.4barCO2_aqua_240_pro.txt\n",
      "    Atmosphere Profile File Read\n",
      "    Added 7 layers to the atmosphere\n",
      "    Successfully created PSG Config file from GCM results for TRAPPIST-1 e\n",
      "    The file's name is trappist1e_1barN2_0.4barCO2_240_psginput.txt\n",
      "    Sending to PSG\n",
      "    Successfully connected to NASA PSG\n",
      "    8 files created\n",
      "    PSG returned an error or warning:\n",
      "WARNING | PUMAS | The requested calculation is too expensive (by 13) - Disabling scattering.\n",
      "\n",
      "    Exoplanet wasn't transitting\n",
      "    Ready to Make Plots\n",
      "49\n",
      "Starting PSG for TRAPPIST-1 e\n",
      "    Exoplanet Archive fetched. planet_data and star_data filled\n",
      "    Accessing netCDF contents\n"
     ]
    },
    {
     "name": "stdout",
     "output_type": "stream",
     "text": [
      "    Output file written to trappist1e_1barN2_0.4barCO2_aqua_245_pro.txt\n",
      "    Atmosphere Profile File Read\n",
      "    Added 7 layers to the atmosphere\n",
      "    Successfully created PSG Config file from GCM results for TRAPPIST-1 e\n",
      "    The file's name is trappist1e_1barN2_0.4barCO2_245_psginput.txt\n",
      "    Sending to PSG\n",
      "    Successfully connected to NASA PSG\n",
      "    8 files created\n",
      "    PSG returned an error or warning:\n",
      "WARNING | PUMAS | The requested calculation is too expensive (by 13) - Disabling scattering.\n",
      "\n",
      "    Exoplanet wasn't transitting\n",
      "    Ready to Make Plots\n",
      "50\n",
      "Starting PSG for TRAPPIST-1 e\n",
      "    Exoplanet Archive fetched. planet_data and star_data filled\n",
      "    Accessing netCDF contents\n",
      "    Output file written to trappist1e_1barN2_0.4barCO2_aqua_250_pro.txt\n",
      "    Atmosphere Profile File Read\n",
      "    Added 7 layers to the atmosphere\n",
      "    Successfully created PSG Config file from GCM results for TRAPPIST-1 e\n",
      "    The file's name is trappist1e_1barN2_0.4barCO2_250_psginput.txt\n",
      "    Sending to PSG\n",
      "    Successfully connected to NASA PSG\n",
      "    8 files created\n",
      "    PSG returned an error or warning:\n",
      "WARNING | PUMAS | The requested calculation is too expensive (by 13) - Disabling scattering.\n",
      "\n",
      "    Exoplanet wasn't transitting\n",
      "    Ready to Make Plots\n",
      "51\n",
      "Starting PSG for TRAPPIST-1 e\n",
      "    Exoplanet Archive fetched. planet_data and star_data filled\n",
      "    Accessing netCDF contents\n",
      "    Output file written to trappist1e_1barN2_0.4barCO2_aqua_255_pro.txt\n",
      "    Atmosphere Profile File Read\n",
      "    Added 7 layers to the atmosphere\n",
      "    Successfully created PSG Config file from GCM results for TRAPPIST-1 e\n",
      "    The file's name is trappist1e_1barN2_0.4barCO2_255_psginput.txt\n",
      "    Sending to PSG\n",
      "    Successfully connected to NASA PSG\n",
      "    8 files created\n",
      "    PSG returned an error or warning:\n",
      "WARNING | PUMAS | The requested calculation is too expensive (by 13) - Disabling scattering.\n",
      "\n",
      "    Exoplanet wasn't transitting\n",
      "    Ready to Make Plots\n",
      "52\n",
      "Starting PSG for TRAPPIST-1 e\n",
      "    Exoplanet Archive fetched. planet_data and star_data filled\n",
      "    Accessing netCDF contents\n",
      "    Output file written to trappist1e_1barN2_0.4barCO2_aqua_260_pro.txt\n",
      "    Atmosphere Profile File Read\n",
      "    Added 7 layers to the atmosphere\n",
      "    Successfully created PSG Config file from GCM results for TRAPPIST-1 e\n",
      "    The file's name is trappist1e_1barN2_0.4barCO2_260_psginput.txt\n",
      "    Sending to PSG\n",
      "    Successfully connected to NASA PSG\n",
      "    8 files created\n",
      "    PSG returned an error or warning:\n",
      "WARNING | PUMAS | The requested calculation is too expensive (by 13) - Disabling scattering.\n",
      "\n",
      "    Exoplanet wasn't transitting\n",
      "    Ready to Make Plots\n",
      "53\n",
      "Starting PSG for TRAPPIST-1 e\n",
      "    Exoplanet Archive fetched. planet_data and star_data filled\n",
      "    Accessing netCDF contents\n",
      "    Output file written to trappist1e_1barN2_0.4barCO2_aqua_265_pro.txt\n",
      "    Atmosphere Profile File Read\n",
      "    Added 7 layers to the atmosphere\n",
      "    Successfully created PSG Config file from GCM results for TRAPPIST-1 e\n",
      "    The file's name is trappist1e_1barN2_0.4barCO2_265_psginput.txt\n",
      "    Sending to PSG\n",
      "    Successfully connected to NASA PSG\n",
      "    8 files created\n",
      "    PSG returned an error or warning:\n",
      "WARNING | PUMAS | The requested calculation is too expensive (by 13) - Disabling scattering.\n",
      "\n",
      "    Exoplanet wasn't transitting\n",
      "    Ready to Make Plots\n",
      "54\n",
      "Starting PSG for TRAPPIST-1 e\n",
      "    Exoplanet Archive fetched. planet_data and star_data filled\n",
      "    Accessing netCDF contents\n",
      "    Output file written to trappist1e_1barN2_0.4barCO2_aqua_270_pro.txt\n",
      "    Atmosphere Profile File Read\n",
      "    Added 7 layers to the atmosphere\n",
      "    Successfully created PSG Config file from GCM results for TRAPPIST-1 e\n",
      "    The file's name is trappist1e_1barN2_0.4barCO2_270_psginput.txt\n",
      "    Sending to PSG\n",
      "    Successfully connected to NASA PSG\n",
      "    8 files created\n",
      "    PSG returned an error or warning:\n",
      "WARNING | PUMAS | The requested calculation is too expensive (by 13) - Disabling scattering.\n",
      "\n",
      "    Exoplanet wasn't transitting\n",
      "    Ready to Make Plots\n",
      "55\n",
      "Starting PSG for TRAPPIST-1 e\n",
      "    Exoplanet Archive fetched. planet_data and star_data filled\n",
      "    Accessing netCDF contents\n",
      "    Output file written to trappist1e_1barN2_0.4barCO2_aqua_275_pro.txt\n",
      "    Atmosphere Profile File Read\n",
      "    Added 7 layers to the atmosphere\n",
      "    Successfully created PSG Config file from GCM results for TRAPPIST-1 e\n",
      "    The file's name is trappist1e_1barN2_0.4barCO2_275_psginput.txt\n",
      "    Sending to PSG\n",
      "    Successfully connected to NASA PSG\n",
      "    8 files created\n",
      "    PSG returned an error or warning:\n",
      "WARNING | PUMAS | The requested calculation is too expensive (by 13) - Disabling scattering.\n",
      "\n",
      "    Exoplanet wasn't transitting\n",
      "    Ready to Make Plots\n",
      "56\n",
      "Starting PSG for TRAPPIST-1 e\n",
      "    Exoplanet Archive fetched. planet_data and star_data filled\n",
      "    Accessing netCDF contents\n",
      "    Output file written to trappist1e_1barN2_0.4barCO2_aqua_280_pro.txt\n",
      "    Atmosphere Profile File Read\n",
      "    Added 7 layers to the atmosphere\n",
      "    Successfully created PSG Config file from GCM results for TRAPPIST-1 e\n",
      "    The file's name is trappist1e_1barN2_0.4barCO2_280_psginput.txt\n",
      "    Sending to PSG\n",
      "    Successfully connected to NASA PSG\n",
      "    8 files created\n",
      "    PSG returned an error or warning:\n",
      "WARNING | PUMAS | The requested calculation is too expensive (by 13) - Disabling scattering.\n",
      "\n",
      "    Exoplanet wasn't transitting\n",
      "    Ready to Make Plots\n",
      "57\n",
      "Starting PSG for TRAPPIST-1 e\n",
      "    Exoplanet Archive fetched. planet_data and star_data filled\n",
      "    Accessing netCDF contents\n",
      "    Output file written to trappist1e_1barN2_0.4barCO2_aqua_285_pro.txt\n",
      "    Atmosphere Profile File Read\n",
      "    Added 7 layers to the atmosphere\n",
      "    Successfully created PSG Config file from GCM results for TRAPPIST-1 e\n",
      "    The file's name is trappist1e_1barN2_0.4barCO2_285_psginput.txt\n",
      "    Sending to PSG\n",
      "    Successfully connected to NASA PSG\n",
      "    8 files created\n",
      "    PSG returned an error or warning:\n",
      "WARNING | PUMAS | The requested calculation is too expensive (by 13) - Disabling scattering.\n",
      "\n",
      "    Exoplanet wasn't transitting\n",
      "    Ready to Make Plots\n",
      "58\n",
      "Starting PSG for TRAPPIST-1 e\n",
      "    Exoplanet Archive fetched. planet_data and star_data filled\n",
      "    Accessing netCDF contents\n",
      "    Output file written to trappist1e_1barN2_0.4barCO2_aqua_290_pro.txt\n",
      "    Atmosphere Profile File Read\n",
      "    Added 7 layers to the atmosphere\n",
      "    Successfully created PSG Config file from GCM results for TRAPPIST-1 e\n",
      "    The file's name is trappist1e_1barN2_0.4barCO2_290_psginput.txt\n",
      "    Sending to PSG\n",
      "    Successfully connected to NASA PSG\n",
      "    8 files created\n",
      "    PSG returned an error or warning:\n",
      "WARNING | PUMAS | The requested calculation is too expensive (by 13) - Disabling scattering.\n",
      "\n",
      "    Exoplanet wasn't transitting\n",
      "    Ready to Make Plots\n",
      "59\n",
      "Starting PSG for TRAPPIST-1 e\n",
      "    Exoplanet Archive fetched. planet_data and star_data filled\n",
      "    Accessing netCDF contents\n",
      "    Output file written to trappist1e_1barN2_0.4barCO2_aqua_295_pro.txt\n",
      "    Atmosphere Profile File Read\n",
      "    Added 7 layers to the atmosphere\n",
      "    Successfully created PSG Config file from GCM results for TRAPPIST-1 e\n",
      "    The file's name is trappist1e_1barN2_0.4barCO2_295_psginput.txt\n",
      "    Sending to PSG\n",
      "    Successfully connected to NASA PSG\n",
      "    8 files created\n",
      "    PSG returned an error or warning:\n",
      "WARNING | PUMAS | The requested calculation is too expensive (by 13) - Disabling scattering.\n",
      "\n",
      "    Exoplanet wasn't transitting\n",
      "    Ready to Make Plots\n",
      "60\n",
      "Starting PSG for TRAPPIST-1 e\n",
      "    Exoplanet Archive fetched. planet_data and star_data filled\n",
      "    Accessing netCDF contents\n",
      "    Output file written to trappist1e_1barN2_0.4barCO2_aqua_300_pro.txt\n",
      "    Atmosphere Profile File Read\n",
      "    Added 7 layers to the atmosphere\n",
      "    Successfully created PSG Config file from GCM results for TRAPPIST-1 e\n",
      "    The file's name is trappist1e_1barN2_0.4barCO2_300_psginput.txt\n",
      "    Sending to PSG\n",
      "    Successfully connected to NASA PSG\n",
      "    8 files created\n",
      "    PSG returned an error or warning:\n",
      "WARNING | PUMAS | The requested calculation is too expensive (by 13) - Disabling scattering.\n",
      "\n",
      "    Exoplanet wasn't transitting\n",
      "    Ready to Make Plots\n",
      "61\n",
      "Starting PSG for TRAPPIST-1 e\n",
      "    Exoplanet Archive fetched. planet_data and star_data filled\n",
      "    Accessing netCDF contents\n",
      "    Output file written to trappist1e_1barN2_0.4barCO2_aqua_305_pro.txt\n",
      "    Atmosphere Profile File Read\n",
      "    Added 7 layers to the atmosphere\n",
      "    Successfully created PSG Config file from GCM results for TRAPPIST-1 e\n",
      "    The file's name is trappist1e_1barN2_0.4barCO2_305_psginput.txt\n",
      "    Sending to PSG\n"
     ]
    },
    {
     "name": "stdout",
     "output_type": "stream",
     "text": [
      "    Successfully connected to NASA PSG\n",
      "    8 files created\n",
      "    PSG returned an error or warning:\n",
      "WARNING | PUMAS | The requested calculation is too expensive (by 13) - Disabling scattering.\n",
      "\n",
      "    Exoplanet wasn't transitting\n",
      "    Ready to Make Plots\n",
      "62\n",
      "Starting PSG for TRAPPIST-1 e\n",
      "    Exoplanet Archive fetched. planet_data and star_data filled\n",
      "    Accessing netCDF contents\n",
      "    Output file written to trappist1e_1barN2_0.4barCO2_aqua_310_pro.txt\n",
      "    Atmosphere Profile File Read\n",
      "    Added 7 layers to the atmosphere\n",
      "    Successfully created PSG Config file from GCM results for TRAPPIST-1 e\n",
      "    The file's name is trappist1e_1barN2_0.4barCO2_310_psginput.txt\n",
      "    Sending to PSG\n",
      "    Successfully connected to NASA PSG\n",
      "    8 files created\n",
      "    PSG returned an error or warning:\n",
      "WARNING | PUMAS | The requested calculation is too expensive (by 13) - Disabling scattering.\n",
      "\n",
      "    Exoplanet wasn't transitting\n",
      "    Ready to Make Plots\n",
      "63\n",
      "Starting PSG for TRAPPIST-1 e\n",
      "    Exoplanet Archive fetched. planet_data and star_data filled\n",
      "    Accessing netCDF contents\n",
      "    Output file written to trappist1e_1barN2_0.4barCO2_aqua_315_pro.txt\n",
      "    Atmosphere Profile File Read\n",
      "    Added 7 layers to the atmosphere\n",
      "    Successfully created PSG Config file from GCM results for TRAPPIST-1 e\n",
      "    The file's name is trappist1e_1barN2_0.4barCO2_315_psginput.txt\n",
      "    Sending to PSG\n",
      "    Successfully connected to NASA PSG\n",
      "    8 files created\n",
      "    PSG returned an error or warning:\n",
      "WARNING | PUMAS | The requested calculation is too expensive (by 13) - Disabling scattering.\n",
      "\n",
      "    Exoplanet wasn't transitting\n",
      "    Ready to Make Plots\n",
      "64\n",
      "Starting PSG for TRAPPIST-1 e\n",
      "    Exoplanet Archive fetched. planet_data and star_data filled\n",
      "    Accessing netCDF contents\n",
      "    Output file written to trappist1e_1barN2_0.4barCO2_aqua_320_pro.txt\n",
      "    Atmosphere Profile File Read\n",
      "    Added 7 layers to the atmosphere\n",
      "    Successfully created PSG Config file from GCM results for TRAPPIST-1 e\n",
      "    The file's name is trappist1e_1barN2_0.4barCO2_320_psginput.txt\n",
      "    Sending to PSG\n",
      "    Successfully connected to NASA PSG\n",
      "    8 files created\n",
      "    PSG returned an error or warning:\n",
      "WARNING | PUMAS | The requested calculation is too expensive (by 13) - Disabling scattering.\n",
      "\n",
      "    Exoplanet wasn't transitting\n",
      "    Ready to Make Plots\n",
      "65\n",
      "Starting PSG for TRAPPIST-1 e\n",
      "    Exoplanet Archive fetched. planet_data and star_data filled\n",
      "    Accessing netCDF contents\n",
      "    Output file written to trappist1e_1barN2_0.4barCO2_aqua_325_pro.txt\n",
      "    Atmosphere Profile File Read\n",
      "    Added 7 layers to the atmosphere\n",
      "    Successfully created PSG Config file from GCM results for TRAPPIST-1 e\n",
      "    The file's name is trappist1e_1barN2_0.4barCO2_325_psginput.txt\n",
      "    Sending to PSG\n",
      "    Successfully connected to NASA PSG\n",
      "    8 files created\n",
      "    PSG returned an error or warning:\n",
      "WARNING | PUMAS | The requested calculation is too expensive (by 13) - Disabling scattering.\n",
      "\n",
      "    Exoplanet wasn't transitting\n",
      "    Ready to Make Plots\n",
      "66\n",
      "Starting PSG for TRAPPIST-1 e\n",
      "    Exoplanet Archive fetched. planet_data and star_data filled\n",
      "    Accessing netCDF contents\n",
      "    Output file written to trappist1e_1barN2_0.4barCO2_aqua_330_pro.txt\n",
      "    Atmosphere Profile File Read\n",
      "    Added 7 layers to the atmosphere\n",
      "    Successfully created PSG Config file from GCM results for TRAPPIST-1 e\n",
      "    The file's name is trappist1e_1barN2_0.4barCO2_330_psginput.txt\n",
      "    Sending to PSG\n",
      "    Successfully connected to NASA PSG\n",
      "    8 files created\n",
      "    PSG returned an error or warning:\n",
      "WARNING | PUMAS | The requested calculation is too expensive (by 13) - Disabling scattering.\n",
      "\n",
      "    Exoplanet wasn't transitting\n",
      "    Ready to Make Plots\n",
      "67\n",
      "Starting PSG for TRAPPIST-1 e\n",
      "    Exoplanet Archive fetched. planet_data and star_data filled\n",
      "    Accessing netCDF contents\n",
      "    Output file written to trappist1e_1barN2_0.4barCO2_aqua_335_pro.txt\n",
      "    Atmosphere Profile File Read\n",
      "    Added 7 layers to the atmosphere\n",
      "    Successfully created PSG Config file from GCM results for TRAPPIST-1 e\n",
      "    The file's name is trappist1e_1barN2_0.4barCO2_335_psginput.txt\n",
      "    Sending to PSG\n",
      "    Successfully connected to NASA PSG\n",
      "    8 files created\n",
      "    PSG returned an error or warning:\n",
      "WARNING | PUMAS | The requested calculation is too expensive (by 13) - Disabling scattering.\n",
      "\n",
      "    Exoplanet wasn't transitting\n",
      "    Ready to Make Plots\n",
      "68\n",
      "Starting PSG for TRAPPIST-1 e\n",
      "    Exoplanet Archive fetched. planet_data and star_data filled\n",
      "    Accessing netCDF contents\n",
      "    Output file written to trappist1e_1barN2_0.4barCO2_aqua_340_pro.txt\n",
      "    Atmosphere Profile File Read\n",
      "    Added 7 layers to the atmosphere\n",
      "    Successfully created PSG Config file from GCM results for TRAPPIST-1 e\n",
      "    The file's name is trappist1e_1barN2_0.4barCO2_340_psginput.txt\n",
      "    Sending to PSG\n",
      "    Successfully connected to NASA PSG\n",
      "    8 files created\n",
      "    PSG returned an error or warning:\n",
      "WARNING | PUMAS | The requested calculation is too expensive (by 13) - Disabling scattering.\n",
      "\n",
      "    Exoplanet wasn't transitting\n",
      "    Ready to Make Plots\n",
      "69\n",
      "Starting PSG for TRAPPIST-1 e\n",
      "    Exoplanet Archive fetched. planet_data and star_data filled\n",
      "    Accessing netCDF contents\n",
      "    Output file written to trappist1e_1barN2_0.4barCO2_aqua_345_pro.txt\n",
      "    Atmosphere Profile File Read\n",
      "    Added 7 layers to the atmosphere\n",
      "    Successfully created PSG Config file from GCM results for TRAPPIST-1 e\n",
      "    The file's name is trappist1e_1barN2_0.4barCO2_345_psginput.txt\n",
      "    Sending to PSG\n",
      "    Successfully connected to NASA PSG\n",
      "    8 files created\n",
      "    PSG returned an error or warning:\n",
      "WARNING | PUMAS | The requested calculation is too expensive (by 13) - Disabling scattering.\n",
      "\n",
      "    Exoplanet wasn't transitting\n",
      "    Ready to Make Plots\n",
      "70\n",
      "Starting PSG for TRAPPIST-1 e\n",
      "    Exoplanet Archive fetched. planet_data and star_data filled\n",
      "    Accessing netCDF contents\n",
      "    Output file written to trappist1e_1barN2_0.4barCO2_aqua_350_pro.txt\n",
      "    Atmosphere Profile File Read\n",
      "    Added 7 layers to the atmosphere\n",
      "    Successfully created PSG Config file from GCM results for TRAPPIST-1 e\n",
      "    The file's name is trappist1e_1barN2_0.4barCO2_350_psginput.txt\n",
      "    Sending to PSG\n",
      "    Successfully connected to NASA PSG\n",
      "    8 files created\n",
      "    PSG returned an error or warning:\n",
      "WARNING | PUMAS | The requested calculation is too expensive (by 13) - Disabling scattering.\n",
      "\n",
      "    Exoplanet wasn't transitting\n",
      "    Ready to Make Plots\n",
      "71\n",
      "Starting PSG for TRAPPIST-1 e\n",
      "    Exoplanet Archive fetched. planet_data and star_data filled\n",
      "    Accessing netCDF contents\n",
      "    Output file written to trappist1e_1barN2_0.4barCO2_aqua_355_pro.txt\n",
      "    Atmosphere Profile File Read\n",
      "    Added 7 layers to the atmosphere\n",
      "    Successfully created PSG Config file from GCM results for TRAPPIST-1 e\n",
      "    The file's name is trappist1e_1barN2_0.4barCO2_355_psginput.txt\n",
      "    Sending to PSG\n",
      "    Successfully connected to NASA PSG\n",
      "    8 files created\n",
      "    PSG returned an error or warning:\n",
      "WARNING | PUMAS | The requested calculation is too expensive (by 13) - Disabling scattering.\n",
      "\n",
      "    Exoplanet wasn't transitting\n",
      "    Ready to Make Plots\n"
     ]
    }
   ],
   "source": [
    "for i, phase in enumerate(phases):\n",
    "    print(i)\n",
    "    if i not in successful:\n",
    "        x = PSG.PSG(\"TRAPPIST-1 e\")\n",
    "        x.fetch_archive()\n",
    "        x.from_cdf(file, phase=phase)\n",
    "        x.calculate(1e-6, 7)\n",
    "        x.write(\"MIRI-MRS\", exposure_time=16, exposure_count=10, rad_units=\"raw\")\n",
    "        x.send(run=True, keep_files=(\"rad\", \"log\"))\n",
    "        x.plot_setup()\n",
    "        obj_list.append(x)\n",
    "        successful.append(i)"
   ]
  },
  {
   "cell_type": "code",
   "execution_count": 7,
   "metadata": {
    "ExecuteTime": {
     "end_time": "2019-01-05T01:04:27.929933-07:00",
     "start_time": "2019-01-05T01:04:27.914270Z"
    }
   },
   "outputs": [],
   "source": [
    "# Computing sig_planet/sig_star for 17um to 28 um\n",
    "phase_lum = []\n",
    "pc_chunk = x.Wavelengths >= 17\n",
    "is_transit = []\n",
    "for i, phase in enumerate(phases):\n",
    "    planet = np.sum(obj_list[i].Thermal[pc_chunk])\n",
    "    star = np.sum(obj_list[i].Stellar[pc_chunk])\n",
    "    phase_lum.append(planet/star*1e6)\n",
    "    is_transit.append(obj_list[i].is_transit)\n",
    "is_transit = np.array(is_transit)\n",
    "phase_lum = np.array(phase_lum)"
   ]
  },
  {
   "cell_type": "code",
   "execution_count": 8,
   "metadata": {
    "ExecuteTime": {
     "end_time": "2019-01-05T01:04:29.103100-07:00",
     "start_time": "2019-01-05T01:04:27.929933Z"
    }
   },
   "outputs": [
    {
     "data": {
      "image/png": "[encoded data removed]",
      "text/plain": [
       "<Figure size 720x432 with 1 Axes>"
      ]
     },
     "metadata": {},
     "output_type": "display_data"
    }
   ],
   "source": [
    "fig = plt.figure(figsize=(10,6))\n",
    "plt.plot(phases[~is_transit], phase_lum[~is_transit],c=\"b\")\n",
    "plt.axvline(180)\n",
    "plt.xlabel(u\"Orbital Phase(\\N{DEGREE SIGN})\")\n",
    "plt.ylabel(\"Brightness w.r.t. Parent Star (ppm)\")\n",
    "plt.title(\"MIRI-MRS Thermal Phase Curve for TRAPPIST-1 e\\n\"\n",
    "          \" Broadband, $\\geq 17\\mu$m\")\n",
    "plt.annotate(\"Transit\",(183, 36))\n",
    "plt.xlim(0, 360)\n",
    "plt.savefig(\"thermal_phase_curve_trappist1e.png\")"
   ]
  },
  {
   "cell_type": "code",
   "execution_count": 10,
   "metadata": {
    "ExecuteTime": {
     "end_time": "2019-01-05T12:31:54.775912-07:00",
     "start_time": "2019-01-05T12:31:53.696834Z"
    }
   },
   "outputs": [],
   "source": [
    "winsound.Beep(2500, 1000)"
   ]
  },
  {
   "cell_type": "markdown",
   "metadata": {},
   "source": [
    "### OST Test"
   ]
  },
  {
   "cell_type": "code",
   "execution_count": 57,
   "metadata": {
    "ExecuteTime": {
     "end_time": "2018-08-13T22:34:06.501482-06:00",
     "start_time": "2018-08-13T22:34:06.496486Z"
    }
   },
   "outputs": [],
   "source": [
    "phases = np.arange(0, 360, 5)\n",
    "test_phases = np.linspace(0,360, 11)\n",
    "obj_list = []\n",
    "successful = []"
   ]
  },
  {
   "cell_type": "code",
   "execution_count": 58,
   "metadata": {
    "ExecuteTime": {
     "end_time": "2018-08-13T22:34:09.949088-06:00",
     "start_time": "2018-08-13T22:34:07.084208Z"
    },
    "scrolled": true
   },
   "outputs": [
    {
     "name": "stdout",
     "output_type": "stream",
     "text": [
      "0\n",
      "    Exoplanet Archive fetched. planet_data and star_data filled\n",
      "Accessing netCDF contents\n",
      "    Output file written to trappist1e_1barN2_0.4barCO2_aqua_0_pro.txt\n",
      "    Atmosphere Profile File Read\n",
      "    Added 7 layers to the atmosphere\n",
      "Scope input OST-TRA not understood. Only JWST instruments, Hubble, and Spitzer-Short-High supported here\n",
      "    Successfully created PSG Config file from GCM results for TRAPPIST-1 e\n",
      "    The file's name is trappist1e_1barN2_0.4barCO2_0_OST-TRA_psginput.txt\n",
      "Sending to PSG\n",
      "    Successfully connected to NASA PSG\n",
      "    7 files created\n",
      "    PSG returned an error or warning:\n",
      "WARNING | PUMAS | Accurate scattering calculations would require a higher number of Legendre polynomials (NMAX=14 and LMAX=56).\n",
      "\n"
     ]
    },
    {
     "ename": "IndexError",
     "evalue": "index 4 is out of bounds for axis 0 with size 4",
     "output_type": "error",
     "traceback": [
      "\u001b[0;31m---------------------------------------------------------------------------\u001b[0m",
      "\u001b[0;31mIndexError\u001b[0m                                Traceback (most recent call last)",
      "\u001b[0;32m<ipython-input-58-8997f6a323f1>\u001b[0m in \u001b[0;36m<module>\u001b[0;34m()\u001b[0m\n\u001b[1;32m      8\u001b[0m         \u001b[0mx\u001b[0m\u001b[1;33m.\u001b[0m\u001b[0mwrite\u001b[0m\u001b[1;33m(\u001b[0m\u001b[1;34m\"OST-TRA\"\u001b[0m\u001b[1;33m,\u001b[0m \u001b[0mexposure_time\u001b[0m\u001b[1;33m=\u001b[0m\u001b[1;36m60\u001b[0m\u001b[1;33m,\u001b[0m \u001b[0mexposure_count\u001b[0m\u001b[1;33m=\u001b[0m\u001b[1;36m10\u001b[0m\u001b[1;33m,\u001b[0m \u001b[0mrad_units\u001b[0m\u001b[1;33m=\u001b[0m\u001b[1;34m\"raw\"\u001b[0m\u001b[1;33m)\u001b[0m\u001b[1;33m\u001b[0m\u001b[0m\n\u001b[1;32m      9\u001b[0m         \u001b[0mx\u001b[0m\u001b[1;33m.\u001b[0m\u001b[0msend\u001b[0m\u001b[1;33m(\u001b[0m\u001b[0mrun\u001b[0m\u001b[1;33m=\u001b[0m\u001b[1;32mTrue\u001b[0m\u001b[1;33m,\u001b[0m \u001b[0mkeep_files\u001b[0m\u001b[1;33m=\u001b[0m\u001b[1;33m(\u001b[0m\u001b[1;34m\"rad\"\u001b[0m\u001b[1;33m,\u001b[0m \u001b[1;34m\"log\"\u001b[0m\u001b[1;33m)\u001b[0m\u001b[1;33m)\u001b[0m\u001b[1;33m\u001b[0m\u001b[0m\n\u001b[0;32m---> 10\u001b[0;31m         \u001b[0mx\u001b[0m\u001b[1;33m.\u001b[0m\u001b[0mplot_setup\u001b[0m\u001b[1;33m(\u001b[0m\u001b[1;33m)\u001b[0m\u001b[1;33m\u001b[0m\u001b[0m\n\u001b[0m\u001b[1;32m     11\u001b[0m         \u001b[0mobj_list\u001b[0m\u001b[1;33m.\u001b[0m\u001b[0mappend\u001b[0m\u001b[1;33m(\u001b[0m\u001b[0mx\u001b[0m\u001b[1;33m)\u001b[0m\u001b[1;33m\u001b[0m\u001b[0m\n\u001b[1;32m     12\u001b[0m         \u001b[0msuccessful\u001b[0m\u001b[1;33m.\u001b[0m\u001b[0mappend\u001b[0m\u001b[1;33m(\u001b[0m\u001b[0mi\u001b[0m\u001b[1;33m)\u001b[0m\u001b[1;33m\u001b[0m\u001b[0m\n",
      "\u001b[0;32mC:\\Users\\dgatl_000\\OneDrive\\College\\Junior_2\\Wolf\\PSG.py\u001b[0m in \u001b[0;36mplot_setup\u001b[0;34m(self)\u001b[0m\n\u001b[1;32m   1214\u001b[0m                 \u001b[1;32mraise\u001b[0m \u001b[0mException\u001b[0m\u001b[1;33m(\u001b[0m\u001b[1;34m\"No results returned from PSG\"\u001b[0m\u001b[1;33m)\u001b[0m\u001b[1;33m\u001b[0m\u001b[0m\n\u001b[1;32m   1215\u001b[0m             \u001b[0mallfile\u001b[0m\u001b[1;33m.\u001b[0m\u001b[0mseek\u001b[0m\u001b[1;33m(\u001b[0m\u001b[1;36m0\u001b[0m\u001b[1;33m)\u001b[0m\u001b[1;33m\u001b[0m\u001b[0m\n\u001b[0;32m-> 1216\u001b[0;31m             \u001b[0mfiletail\u001b[0m \u001b[1;33m=\u001b[0m \u001b[0mallfile\u001b[0m\u001b[1;33m.\u001b[0m\u001b[0mreadline\u001b[0m\u001b[1;33m(\u001b[0m\u001b[1;33m)\u001b[0m\u001b[1;33m.\u001b[0m\u001b[0msplit\u001b[0m\u001b[1;33m(\u001b[0m\u001b[1;34m\"_\"\u001b[0m\u001b[1;33m)\u001b[0m\u001b[1;33m[\u001b[0m\u001b[1;36m1\u001b[0m\u001b[1;33m]\u001b[0m\u001b[1;33m.\u001b[0m\u001b[0msplit\u001b[0m\u001b[1;33m(\u001b[0m\u001b[1;34m\"\\n\"\u001b[0m\u001b[1;33m)\u001b[0m\u001b[1;33m[\u001b[0m\u001b[1;36m0\u001b[0m\u001b[1;33m]\u001b[0m\u001b[1;33m\u001b[0m\u001b[0m\n\u001b[0m\u001b[1;32m   1217\u001b[0m             \u001b[1;31m# print(filetail)\u001b[0m\u001b[1;33m\u001b[0m\u001b[1;33m\u001b[0m\u001b[0m\n\u001b[1;32m   1218\u001b[0m             \u001b[1;31m# print(sections)\u001b[0m\u001b[1;33m\u001b[0m\u001b[1;33m\u001b[0m\u001b[0m\n",
      "\u001b[0;31mIndexError\u001b[0m: index 4 is out of bounds for axis 0 with size 4"
     ]
    }
   ],
   "source": [
    "for i, phase in enumerate(phases):\n",
    "    print(i)\n",
    "    if i not in successful:\n",
    "        x = PSG.PSG(\"TRAPPIST-1 e\")\n",
    "        x.fetch_archive()\n",
    "        x.from_cdf(file, phase=phase)\n",
    "        x.calculate(1e-6, 7)\n",
    "        x.write(\"OST-TRA\", exposure_time=60, exposure_count=10, rad_units=\"raw\")\n",
    "        x.send(run=True, keep_files=(\"rad\", \"log\"))\n",
    "        x.plot_setup()\n",
    "        obj_list.append(x)\n",
    "        successful.append(i)"
   ]
  },
  {
   "cell_type": "code",
   "execution_count": null,
   "metadata": {},
   "outputs": [],
   "source": [
    "# Computing sig_planet/sig_star for 17um to 28 um\n",
    "phase_lum = []\n",
    "pc_chunk = x.Wavelengths >=17\n",
    "is_transit = []\n",
    "for i, phase in enumerate(phases):\n",
    "    planet = np.sum(obj_list[i].Thermal[pc_chunk])\n",
    "    star = np.sum(obj_list[i].Stellar[pc_chunk])\n",
    "    phase_lum.append(planet/star*1e6)\n",
    "    is_transit.append(obj_list[i].is_transit)\n",
    "is_transit = np.array(is_transit)\n",
    "phase_lum = np.array(phase_lum)"
   ]
  },
  {
   "cell_type": "markdown",
   "metadata": {},
   "source": [
    "### Standard Transits (for reference)"
   ]
  },
  {
   "cell_type": "code",
   "execution_count": 5,
   "metadata": {
    "ExecuteTime": {
     "end_time": "2018-08-13T13:18:33.965080-06:00",
     "start_time": "2018-08-13T13:18:33.949466Z"
    }
   },
   "outputs": [],
   "source": [
    "transit = PSG.PSG(\"TRAPPIST-1 e\")"
   ]
  },
  {
   "cell_type": "code",
   "execution_count": 6,
   "metadata": {
    "ExecuteTime": {
     "end_time": "2018-08-13T13:18:39.076041-06:00",
     "start_time": "2018-08-13T13:18:37.059752Z"
    }
   },
   "outputs": [
    {
     "name": "stdout",
     "output_type": "stream",
     "text": [
      "    Retrieving planet variables from NASA's Exoplanet Archive\n",
      "    Exoplanet Archive fetched. planet_data and star_data filled\n"
     ]
    }
   ],
   "source": [
    "transit.fetch_archive()"
   ]
  },
  {
   "cell_type": "code",
   "execution_count": 7,
   "metadata": {
    "ExecuteTime": {
     "end_time": "2018-08-13T13:18:42.155074-06:00",
     "start_time": "2018-08-13T13:18:39.076041Z"
    }
   },
   "outputs": [
    {
     "name": "stdout",
     "output_type": "stream",
     "text": [
      "    Accessing netCDF contents\n",
      "    Output file written to trappist1e_1barN2_0.4barCO2_aqua_terminator.txt\n"
     ]
    }
   ],
   "source": [
    "transit.from_cdf(file)"
   ]
  },
  {
   "cell_type": "code",
   "execution_count": 8,
   "metadata": {
    "ExecuteTime": {
     "end_time": "2018-08-13T13:18:47.156413-06:00",
     "start_time": "2018-08-13T13:18:47.109541Z"
    }
   },
   "outputs": [
    {
     "name": "stdout",
     "output_type": "stream",
     "text": [
      "    Using terminator profile\n",
      "    Atmosphere Profile File Read\n",
      "    Added 7 layers to the atmosphere\n"
     ]
    }
   ],
   "source": [
    "transit.calculate(1e-6, 7)"
   ]
  },
  {
   "cell_type": "code",
   "execution_count": 9,
   "metadata": {
    "ExecuteTime": {
     "end_time": "2018-08-13T13:20:10.668331-06:00",
     "start_time": "2018-08-13T13:20:10.652707Z"
    }
   },
   "outputs": [
    {
     "name": "stdout",
     "output_type": "stream",
     "text": [
      "    Successfully created PSG Config file from GCM results for TRAPPIST-1 e\n",
      "    The file's name is trappist1e_1barN2_0.4barCO2_psginput.txt\n"
     ]
    }
   ],
   "source": [
    "transit.write(\"MIRI-MRS\")"
   ]
  },
  {
   "cell_type": "code",
   "execution_count": 10,
   "metadata": {
    "ExecuteTime": {
     "end_time": "2018-08-13T13:20:25.357130-06:00",
     "start_time": "2018-08-13T13:20:17.373096Z"
    }
   },
   "outputs": [
    {
     "name": "stdout",
     "output_type": "stream",
     "text": [
      "Sending to PSG\n",
      "    Successfully connected to NASA PSG\n",
      "    7 files created\n"
     ]
    }
   ],
   "source": [
    "transit.send(run=True)"
   ]
  },
  {
   "cell_type": "code",
   "execution_count": 11,
   "metadata": {
    "ExecuteTime": {
     "end_time": "2018-08-13T13:20:28.170048-06:00",
     "start_time": "2018-08-13T13:20:28.013836Z"
    }
   },
   "outputs": [
    {
     "name": "stdout",
     "output_type": "stream",
     "text": [
      "Ready to Make Plots\n"
     ]
    }
   ],
   "source": [
    "transit.plot_setup()"
   ]
  },
  {
   "cell_type": "code",
   "execution_count": 12,
   "metadata": {
    "ExecuteTime": {
     "end_time": "2018-08-13T13:20:31.436098-06:00",
     "start_time": "2018-08-13T13:20:31.217380Z"
    }
   },
   "outputs": [
    {
     "data": {
      "text/plain": [
       "[<matplotlib.lines.Line2D at 0x1fcdd2d5fd0>]"
      ]
     },
     "execution_count": 12,
     "metadata": {},
     "output_type": "execute_result"
    },
    {
     "data": {
      "image/png": "[encoded data removed]",
      "text/plain": [
       "<Figure size 720x432 with 1 Axes>"
      ]
     },
     "metadata": {},
     "output_type": "display_data"
    }
   ],
   "source": [
    "fig = plt.figure(figsize=(10, 6))\n",
    "ax = fig.gca()\n",
    "ax.step(transit.Wavelengths, transit.Transit*1e6, linewidth=0.5, where=\"post\")"
   ]
  },
  {
   "cell_type": "code",
   "execution_count": 13,
   "metadata": {
    "ExecuteTime": {
     "end_time": "2018-08-13T13:21:27.743965-06:00",
     "start_time": "2018-08-13T13:21:27.634598Z"
    }
   },
   "outputs": [
    {
     "data": {
      "text/plain": [
       "[<matplotlib.lines.Line2D at 0x1fcdd39c2b0>]"
      ]
     },
     "execution_count": 13,
     "metadata": {},
     "output_type": "execute_result"
    },
    {
     "data": {
      "image/png": "[encoded data removed]",
      "text/plain": [
       "<Figure size 432x288 with 1 Axes>"
      ]
     },
     "metadata": {},
     "output_type": "display_data"
    }
   ],
   "source": [
    "plt.step(transit.Wavelengths, transit.Stellar)"
   ]
  },
  {
   "cell_type": "code",
   "execution_count": 24,
   "metadata": {
    "ExecuteTime": {
     "end_time": "2018-06-06T13:47:28.934149-06:00",
     "start_time": "2018-06-06T13:47:28.779062Z"
    }
   },
   "outputs": [
    {
     "name": "stdout",
     "output_type": "stream",
     "text": [
      "Calculating Planet Data\n",
      "    Using terminator profile\n"
     ]
    }
   ],
   "source": [
    "background = PSG.PSG(\"TRAPPIST-1 e\", gcmfiles[0], atmosphere_ceiling=1e-6,\n",
    "                  n_uplayers=7)\n",
    "background.calculate()"
   ]
  },
  {
   "cell_type": "code",
   "execution_count": 25,
   "metadata": {
    "ExecuteTime": {
     "end_time": "2018-06-06T13:47:29.175313-06:00",
     "start_time": "2018-06-06T13:47:29.148624Z"
    }
   },
   "outputs": [
    {
     "data": {
      "text/html": [
       "&lt;Table length=47&gt;\n",
       "<table id=\"table1613961205184\" class=\"table-striped table-bordered table-condensed\">\n",
       "<thead><tr><th>Layer</th><th>Height</th><th>Pressure</th><th>Temperature</th><th>N2</th><th>CO2</th><th>H2O</th><th>LiquidCloud</th><th>IceCloud</th><th>LiquidCloudSize</th><th>IceCloudSize</th></tr></thead>\n",
       "<thead><tr><th>float64</th><th>float64</th><th>float64</th><th>float64</th><th>float64</th><th>float64</th><th>float64</th><th>float64</th><th>float64</th><th>float64</th><th>float64</th></tr></thead>\n",
       "<tr><td>1.0</td><td>0.0624490585</td><td>0.0</td><td>0.0</td><td>0.0</td><td>0.0</td><td>0.0</td><td>0.0</td><td>0.0</td><td>14.0</td><td>245.268</td></tr>\n",
       "<tr><td>2.0</td><td>0.2538918304</td><td>0.0</td><td>0.0</td><td>0.0</td><td>0.0</td><td>0.0</td><td>0.0</td><td>0.0</td><td>14.0</td><td>245.257</td></tr>\n",
       "<tr><td>3.0</td><td>0.6280254517</td><td>0.0</td><td>0.0</td><td>0.0</td><td>0.0</td><td>0.0</td><td>0.0</td><td>0.0</td><td>14.0</td><td>245.001</td></tr>\n",
       "<tr><td>4.0</td><td>1.2355699463</td><td>0.0</td><td>0.0</td><td>0.0</td><td>0.0</td><td>0.0</td><td>0.0</td><td>0.0</td><td>14.0</td><td>244.42</td></tr>\n",
       "<tr><td>5.0</td><td>2.0735</td><td>0.0</td><td>0.0</td><td>0.0</td><td>0.0</td><td>0.0</td><td>0.0</td><td>0.0</td><td>14.0</td><td>243.352</td></tr>\n",
       "<tr><td>6.0</td><td>3.1339487305</td><td>0.0</td><td>0.0</td><td>0.0</td><td>0.0</td><td>0.0</td><td>0.0</td><td>0.0</td><td>14.0</td><td>240.517</td></tr>\n",
       "<tr><td>7.0</td><td>4.4018339844000005</td><td>0.0</td><td>0.0</td><td>0.0</td><td>0.0</td><td>0.0</td><td>0.0</td><td>0.0</td><td>14.0</td><td>232.278</td></tr>\n",
       "<tr><td>8.0</td><td>5.7642592773</td><td>0.0</td><td>0.0</td><td>0.0</td><td>0.0</td><td>0.0</td><td>0.0</td><td>0.0</td><td>14.0</td><td>212.468</td></tr>\n",
       "<tr><td>9.0</td><td>7.100798828099999</td><td>0.0</td><td>0.0</td><td>0.0</td><td>0.0</td><td>0.0</td><td>0.0</td><td>0.0</td><td>14.0</td><td>166.62</td></tr>\n",
       "<tr><td>10.0</td><td>8.4133066406</td><td>0.0</td><td>0.0</td><td>0.0</td><td>0.0</td><td>0.0</td><td>0.0</td><td>0.0</td><td>14.0</td><td>123.287</td></tr>\n",
       "<tr><td>...</td><td>...</td><td>...</td><td>...</td><td>...</td><td>...</td><td>...</td><td>...</td><td>...</td><td>...</td><td>...</td></tr>\n",
       "<tr><td>38.0</td><td>42.599449218800004</td><td>0.0</td><td>0.0</td><td>0.0</td><td>0.0</td><td>0.0</td><td>0.0</td><td>0.0</td><td>14.0</td><td>6.512</td></tr>\n",
       "<tr><td>39.0</td><td>43.953546875</td><td>0.0</td><td>0.0</td><td>0.0</td><td>0.0</td><td>0.0</td><td>0.0</td><td>0.0</td><td>14.0</td><td>6.348</td></tr>\n",
       "<tr><td>40.0</td><td>45.3320664062</td><td>0.0</td><td>0.0</td><td>0.0</td><td>0.0</td><td>0.0</td><td>0.0</td><td>0.0</td><td>14.0</td><td>6.418</td></tr>\n",
       "<tr><td>41.0</td><td>47.332066406200006</td><td>0.0</td><td>0.0</td><td>0.0</td><td>0.0</td><td>0.0</td><td>0.0</td><td>0.0</td><td>14.0</td><td>6.418</td></tr>\n",
       "<tr><td>42.0</td><td>54.55866202692159</td><td>0.0</td><td>0.0</td><td>0.0</td><td>0.0</td><td>0.0</td><td>0.0</td><td>0.0</td><td>14.0</td><td>6.418</td></tr>\n",
       "<tr><td>43.0</td><td>62.888604453110126</td><td>0.0</td><td>0.0</td><td>0.0</td><td>0.0</td><td>0.0</td><td>0.0</td><td>0.0</td><td>14.0</td><td>6.418</td></tr>\n",
       "<tr><td>44.0</td><td>72.49035117665073</td><td>0.0</td><td>0.0</td><td>0.0</td><td>0.0</td><td>0.0</td><td>0.0</td><td>0.0</td><td>14.0</td><td>6.418</td></tr>\n",
       "<tr><td>45.0</td><td>83.55807955051978</td><td>0.0</td><td>0.0</td><td>0.0</td><td>0.0</td><td>0.0</td><td>0.0</td><td>0.0</td><td>14.0</td><td>6.418</td></tr>\n",
       "<tr><td>46.0</td><td>96.31561366224814</td><td>0.0</td><td>0.0</td><td>0.0</td><td>0.0</td><td>0.0</td><td>0.0</td><td>0.0</td><td>14.0</td><td>6.418</td></tr>\n",
       "<tr><td>47.0</td><td>111.02095075709218</td><td>0.0</td><td>0.0</td><td>0.0</td><td>0.0</td><td>0.0</td><td>0.0</td><td>0.0</td><td>14.0</td><td>6.418</td></tr>\n",
       "</table>"
      ],
      "text/plain": [
       "<Table length=47>\n",
       " Layer        Height       Pressure ... IceCloud LiquidCloudSize IceCloudSize\n",
       "float64      float64       float64  ... float64      float64       float64   \n",
       "------- ------------------ -------- ... -------- --------------- ------------\n",
       "    1.0       0.0624490585      0.0 ...      0.0            14.0      245.268\n",
       "    2.0       0.2538918304      0.0 ...      0.0            14.0      245.257\n",
       "    3.0       0.6280254517      0.0 ...      0.0            14.0      245.001\n",
       "    4.0       1.2355699463      0.0 ...      0.0            14.0       244.42\n",
       "    5.0             2.0735      0.0 ...      0.0            14.0      243.352\n",
       "    6.0       3.1339487305      0.0 ...      0.0            14.0      240.517\n",
       "    7.0 4.4018339844000005      0.0 ...      0.0            14.0      232.278\n",
       "    8.0       5.7642592773      0.0 ...      0.0            14.0      212.468\n",
       "    9.0  7.100798828099999      0.0 ...      0.0            14.0       166.62\n",
       "   10.0       8.4133066406      0.0 ...      0.0            14.0      123.287\n",
       "    ...                ...      ... ...      ...             ...          ...\n",
       "   38.0 42.599449218800004      0.0 ...      0.0            14.0        6.512\n",
       "   39.0       43.953546875      0.0 ...      0.0            14.0        6.348\n",
       "   40.0      45.3320664062      0.0 ...      0.0            14.0        6.418\n",
       "   41.0 47.332066406200006      0.0 ...      0.0            14.0        6.418\n",
       "   42.0  54.55866202692159      0.0 ...      0.0            14.0        6.418\n",
       "   43.0 62.888604453110126      0.0 ...      0.0            14.0        6.418\n",
       "   44.0  72.49035117665073      0.0 ...      0.0            14.0        6.418\n",
       "   45.0  83.55807955051978      0.0 ...      0.0            14.0        6.418\n",
       "   46.0  96.31561366224814      0.0 ...      0.0            14.0        6.418\n",
       "   47.0 111.02095075709218      0.0 ...      0.0            14.0        6.418"
      ]
     },
     "execution_count": 25,
     "metadata": {},
     "output_type": "execute_result"
    }
   ],
   "source": [
    "background.atmosphere[\"Pressure\"] *= 0\n",
    "background.atmosphere[\"Temperature\"] *= 0\n",
    "background.atmosphere[\"N2\"] *= 0\n",
    "background.atmosphere[\"CO2\"] *= 0\n",
    "background.atmosphere[\"H2O\"] *= 0\n",
    "background.atmosphere[\"LiquidCloud\"] *= 0\n",
    "background.atmosphere[\"IceCloud\"] *= 0\n",
    "background.planet_data[\"MWeightTotal\"] = 0\n",
    "background.planet_data[\"IceCloudAbundance\"] = 0\n",
    "background.planet_data[\"LiquidCloudAbundance\"] = 0\n",
    "background.planet_data[\"SurfacePressure\"] = 0\n",
    "background.atmosphere"
   ]
  },
  {
   "cell_type": "code",
   "execution_count": 26,
   "metadata": {
    "ExecuteTime": {
     "end_time": "2018-06-06T13:47:40.694055-06:00",
     "start_time": "2018-06-06T13:47:37.460181Z"
    }
   },
   "outputs": [
    {
     "name": "stdout",
     "output_type": "stream",
     "text": [
      "    Successfully added 7 layers to the atmosphere\n",
      "    Successfully created PSG Config file from GCM results for TRAPPIST-1 e\n",
      "    The file's name is trappist1e_1barN2_0.4barCO2_psginput.txt\n",
      "Sending to PSG\n",
      "    Successfully connected to NASA PSG\n",
      "    5 files created\n",
      "4162\n",
      "Ready to Make Plots\n"
     ]
    }
   ],
   "source": [
    "background.write(scope='MIRI-MRS', exposure_time=15, exposure_count=114,\n",
    "              rad_units=\"Wsrm2um\")\n",
    "background.send(run=True)\n",
    "background.plot_setup()"
   ]
  },
  {
   "cell_type": "code",
   "execution_count": 27,
   "metadata": {
    "ExecuteTime": {
     "end_time": "2018-06-06T13:47:40.711671-06:00",
     "start_time": "2018-06-06T13:47:40.694055Z"
    }
   },
   "outputs": [
    {
     "data": {
      "text/plain": [
       "array([ 5.        ,  5.00208333,  5.00416753, ..., 28.27544203,\n",
       "       28.28722346, 28.29900981])"
      ]
     },
     "execution_count": 27,
     "metadata": {},
     "output_type": "execute_result"
    }
   ],
   "source": [
    "background.Wavelengths"
   ]
  },
  {
   "cell_type": "code",
   "execution_count": 26,
   "metadata": {
    "ExecuteTime": {
     "end_time": "2018-06-01T13:26:42.036808-06:00",
     "start_time": "2018-06-01T13:26:35.046997Z"
    }
   },
   "outputs": [
    {
     "name": "stdout",
     "output_type": "stream",
     "text": [
      "    Successfully added 7 layers to the atmosphere\n",
      "    Successfully created PSG Config file from GCM results for TRAPPIST-1 e\n",
      "    The file's name is trappist1e_1barN2_0.4barCO2_psginput.txt\n",
      "Sending to PSG\n",
      "    Successfully connected to NASA PSG\n",
      "    7 files created\n",
      "Ready to Make Plots\n"
     ]
    }
   ],
   "source": [
    "noco2.atmosphere[\"CO2\"] *= 0\n",
    "noco2.write(scope='MIRI-MRS', exposure_time=15, exposure_count=114,\n",
    "            rad_units=\"rkm\")\n",
    "noco2.send()\n",
    "noco2.plot_setup()"
   ]
  },
  {
   "cell_type": "code",
   "execution_count": 29,
   "metadata": {
    "ExecuteTime": {
     "end_time": "2018-06-01T13:30:02.984583-06:00",
     "start_time": "2018-06-01T13:29:55.313117Z"
    }
   },
   "outputs": [
    {
     "name": "stdout",
     "output_type": "stream",
     "text": [
      "Calculating Planet Data\n",
      "    Using terminator profile\n",
      "    Successfully added 7 layers to the atmosphere\n",
      "    Successfully created PSG Config file from GCM results for TRAPPIST-1 e\n",
      "    The file's name is trappist1e_1barN2_0.4barCO2_psginput.txt\n",
      "Sending to PSG\n",
      "    Successfully connected to NASA PSG\n",
      "    7 files created\n",
      "Ready to Make Plots\n"
     ]
    }
   ],
   "source": [
    "noN2 = PSG.PSG(\"TRAPPIST-1 e\", gcmfiles[0], atmosphere_ceiling=1e-6,\n",
    "                  n_uplayers=7)\n",
    "noN2.calculate()\n",
    "noN2.atmosphere[\"N2\"] *= 0\n",
    "noN2.write(scope='MIRI-MRS', exposure_time=15, exposure_count=114,\n",
    "            rad_units=\"rkm\")\n",
    "noN2.send()\n",
    "noN2.plot_setup()"
   ]
  },
  {
   "cell_type": "code",
   "execution_count": 32,
   "metadata": {
    "ExecuteTime": {
     "end_time": "2018-06-01T13:31:21.604628-06:00",
     "start_time": "2018-06-01T13:31:21.324644Z"
    }
   },
   "outputs": [
    {
     "data": {
      "image/png": "[encoded data removed]",
      "text/plain": [
       "<matplotlib.figure.Figure at 0x1cdba1dbb70>"
      ]
     },
     "metadata": {},
     "output_type": "display_data"
    }
   ],
   "source": [
    "fig = plt.figure(figsize=(10,6))\n",
    "ax = fig.gca()\n",
    "ax.step(drytransit.Wavelengths, drytransit.Transit, linewidth=0.45, where=\"post\",\n",
    "       c=\"orange\", label=\"No Water\")\n",
    "ax.step(noN2.Wavelengths, noN2.Transit, linewidth=0.45, where=\"post\",\n",
    "       c=\"indigo\", label=\"No $N_2$\")\n",
    "ax.step(noco2.Wavelengths, noco2.Transit, linewidth=0.45, where=\"post\",\n",
    "        c=\"g\", label=\"No $CO_2$\")\n",
    "ax.step(transit.Wavelengths, transit.Transit, linewidth=0.45, where=\"post\",\n",
    "       c=\"b\", label=\"TRAPPIST-1 e\")\n",
    "ax.set_title(\"Transit Depth Without Noise\\n{}\".format(\n",
    "            drytransit._title_stem))\n",
    "ax.set_xlabel(\"Wavelengths ($\\mu m$)\")\n",
    "ax.set_ylabel(\"Depth (ppm)\")\n",
    "ax.set_xlim(5, 28)\n",
    "ax.set_ylim(0,120)\n",
    "ax.legend()\n",
    "ax.xaxis.grid(True)\n",
    "fig.savefig(\"trappist1e_with_and_without_species.png\")"
   ]
  },
  {
   "cell_type": "code",
   "execution_count": 7,
   "metadata": {
    "ExecuteTime": {
     "end_time": "2018-06-03T11:19:48.174350-06:00",
     "start_time": "2018-06-03T11:19:36.908271Z"
    }
   },
   "outputs": [
    {
     "name": "stdout",
     "output_type": "stream",
     "text": [
      "Calculating Planet Data\n",
      "    Using terminator profile\n",
      "    Successfully added 0 layers to the atmosphere\n",
      "    Successfully created PSG Config file from GCM results for TRAPPIST-1 e\n",
      "    The file's name is trappist1e_1barN2_0.4barCO2_NIRSpec-2700_psginput.txt\n",
      "Sending to PSG\n",
      "    Successfully connected to NASA PSG\n",
      "    7 files created\n",
      "Ready to Make Plots\n"
     ]
    }
   ],
   "source": [
    "notop = PSG.PSG(\"TRAPPIST-1 e\", gcmfiles[0], atmosphere_ceiling=0,\n",
    "                  n_uplayers=0)\n",
    "notop.calculate()\n",
    "notop.write(scope='NIRSpec-2700', exposure_time=15, exposure_count=114,\n",
    "              rad_units=\"rkm\")\n",
    "notop.send(run=True)\n",
    "notop.plot_setup()"
   ]
  },
  {
   "cell_type": "code",
   "execution_count": 8,
   "metadata": {
    "ExecuteTime": {
     "end_time": "2018-06-03T11:19:50.253842-06:00",
     "start_time": "2018-06-03T11:19:50.201884Z"
    }
   },
   "outputs": [
    {
     "data": {
      "text/html": [
       "&lt;Table length=40&gt;\n",
       "<table id=\"table2157125840968\" class=\"table-striped table-bordered table-condensed\">\n",
       "<thead><tr><th>Layer</th><th>Height</th><th>Pressure</th><th>Temperature</th><th>N2</th><th>CO2</th><th>H2O</th><th>LiquidCloud</th><th>IceCloud</th><th>LiquidCloudSize</th><th>IceCloudSize</th></tr></thead>\n",
       "<thead><tr><th>float64</th><th>float64</th><th>float64</th><th>float64</th><th>float64</th><th>float64</th><th>float64</th><th>float64</th><th>float64</th><th>float64</th><th>float64</th></tr></thead>\n",
       "<tr><td>1.0</td><td>0.0624490585</td><td>1.3948414307</td><td>285.6473694</td><td>0.743522479370338</td><td>0.29742105722016676</td><td>0.010124508311474618</td><td>2.7378913764375307e-05</td><td>7.467335884602357e-11</td><td>14.0</td><td>245.268</td></tr>\n",
       "<tr><td>2.0</td><td>0.2538918304</td><td>1.3634121094</td><td>287.7983398</td><td>0.743405111454549</td><td>0.2973740929428579</td><td>0.010321564184035393</td><td>1.4983826903481737e-05</td><td>1.2593205384097718e-29</td><td>14.0</td><td>245.257</td></tr>\n",
       "<tr><td>3.0</td><td>0.6280254517</td><td>1.3044910889</td><td>290.3214417</td><td>0.7438750555689689</td><td>0.2975620794772623</td><td>0.009513951323430787</td><td>1.162038713267789e-05</td><td>1.457692805245037e-27</td><td>14.0</td><td>245.001</td></tr>\n",
       "<tr><td>4.0</td><td>1.2355699463</td><td>1.2144830322</td><td>290.4963074</td><td>0.7446333885309321</td><td>0.29786546618616155</td><td>0.008211542942301501</td><td>1.0508162479488627e-05</td><td>4.863929294759126e-13</td><td>14.0</td><td>244.42</td></tr>\n",
       "<tr><td>5.0</td><td>2.0735</td><td>1.1000306396000001</td><td>288.3937988</td><td>0.745355623864113</td><td>0.2981543887896561</td><td>0.006971968938266969</td><td>1.1984631264155307e-05</td><td>4.299056970664211e-09</td><td>14.0</td><td>243.352</td></tr>\n",
       "<tr><td>6.0</td><td>3.1339487305</td><td>0.9690897217000001</td><td>283.894043</td><td>0.7461687023380548</td><td>0.2984795768510783</td><td>0.005576714198748989</td><td>1.4352685597170603e-05</td><td>3.8182831151211714e-08</td><td>14.0</td><td>240.517</td></tr>\n",
       "<tr><td>7.0</td><td>4.4018339844000005</td><td>0.8304191895</td><td>277.6163635</td><td>0.7469053567871445</td><td>0.29877429339680067</td><td>0.004311744808277689</td><td>1.555473732701135e-05</td><td>1.611936086744098e-07</td><td>14.0</td><td>232.278</td></tr>\n",
       "<tr><td>8.0</td><td>5.7642592773</td><td>0.7006837158</td><td>270.3057251</td><td>0.7476383686650052</td><td>0.29906747721695137</td><td>0.0030541653691493822</td><td>1.9323727229330128e-05</td><td>8.284419441916838e-07</td><td>14.0</td><td>212.468</td></tr>\n",
       "<tr><td>9.0</td><td>7.100798828099999</td><td>0.5904064941</td><td>262.8930359</td><td>0.7482880606511453</td><td>0.2993273740445811</td><td>0.0019364756556699376</td><td>1.4517919672065879e-05</td><td>2.3848849463334803e-06</td><td>14.0</td><td>166.62</td></tr>\n",
       "<tr><td>10.0</td><td>8.4133066406</td><td>0.4966690979</td><td>255.7516785</td><td>0.7487533049959171</td><td>0.29951346962689074</td><td>0.0011351550206896547</td><td>7.919681642179804e-06</td><td>4.005460602823896e-06</td><td>14.0</td><td>123.287</td></tr>\n",
       "<tr><td>...</td><td>...</td><td>...</td><td>...</td><td>...</td><td>...</td><td>...</td><td>...</td><td>...</td><td>...</td><td>...</td></tr>\n",
       "<tr><td>31.0</td><td>33.5213828125</td><td>0.0085997248</td><td>191.2008514</td><td>0.7494057955830363</td><td>0.29977444090745636</td><td>9.518664776741941e-06</td><td>0.0</td><td>3.30360320305885e-08</td><td>14.0</td><td>11.368</td></tr>\n",
       "<tr><td>32.0</td><td>34.7712460938</td><td>0.0068728499</td><td>189.8738708</td><td>0.7494060122867847</td><td>0.2997745156200064</td><td>9.215089321826039e-06</td><td>0.0</td><td>4.1980607968125394e-08</td><td>14.0</td><td>10.613</td></tr>\n",
       "<tr><td>33.0</td><td>36.039816406199996</td><td>0.0054653997</td><td>188.4750824</td><td>0.7494060194762869</td><td>0.29977456510349154</td><td>8.96147868823573e-06</td><td>0.0</td><td>5.198974826676044e-08</td><td>14.0</td><td>9.88</td></tr>\n",
       "<tr><td>34.0</td><td>37.3254648438</td><td>0.0043245749</td><td>186.7923279</td><td>0.7494062498849459</td><td>0.29977464529822984</td><td>8.714518868797052e-06</td><td>0.0</td><td>7.017382866444649e-08</td><td>14.0</td><td>9.077</td></tr>\n",
       "<tr><td>35.0</td><td>38.6257851562</td><td>0.0034048753</td><td>184.8319702</td><td>0.7494063788287274</td><td>0.29977473749917816</td><td>8.355646979529711e-06</td><td>0.0</td><td>1.0253028413870486e-07</td><td>14.0</td><td>8.257</td></tr>\n",
       "<tr><td>36.0</td><td>39.938703125</td><td>0.0026674248999999997</td><td>182.7122803</td><td>0.7494067090767763</td><td>0.29977485164506074</td><td>7.910999079710002e-06</td><td>0.0</td><td>1.30181795703458e-07</td><td>14.0</td><td>7.511</td></tr>\n",
       "<tr><td>37.0</td><td>41.262953125</td><td>0.0020793252</td><td>180.5933228</td><td>0.7494068966212196</td><td>0.29977491957508573</td><td>7.57369816397625e-06</td><td>0.0</td><td>1.2088328285193973e-07</td><td>14.0</td><td>6.908</td></tr>\n",
       "<tr><td>38.0</td><td>42.599449218800004</td><td>0.0016128501</td><td>178.9176025</td><td>0.7494068840891184</td><td>0.2997749378658351</td><td>7.422828549654567e-06</td><td>0.0</td><td>7.245875886825567e-08</td><td>14.0</td><td>6.512</td></tr>\n",
       "<tr><td>39.0</td><td>43.953546875</td><td>0.0012447951</td><td>178.3694458</td><td>0.7494068734418907</td><td>0.29977491030297804</td><td>7.537433302933744e-06</td><td>0.0</td><td>4.576601099983055e-08</td><td>14.0</td><td>6.348</td></tr>\n",
       "<tr><td>40.0</td><td>45.3320664062</td><td>0.0009559474999999999</td><td>178.5236359</td><td>0.7494066524478142</td><td>0.2997748289925564</td><td>7.759157228313254e-06</td><td>0.0</td><td>9.908108286826561e-09</td><td>14.0</td><td>6.418</td></tr>\n",
       "</table>"
      ],
      "text/plain": [
       "<Table length=40>\n",
       " Layer        Height       ... LiquidCloudSize IceCloudSize\n",
       "float64      float64       ...     float64       float64   \n",
       "------- ------------------ ... --------------- ------------\n",
       "    1.0       0.0624490585 ...            14.0      245.268\n",
       "    2.0       0.2538918304 ...            14.0      245.257\n",
       "    3.0       0.6280254517 ...            14.0      245.001\n",
       "    4.0       1.2355699463 ...            14.0       244.42\n",
       "    5.0             2.0735 ...            14.0      243.352\n",
       "    6.0       3.1339487305 ...            14.0      240.517\n",
       "    7.0 4.4018339844000005 ...            14.0      232.278\n",
       "    8.0       5.7642592773 ...            14.0      212.468\n",
       "    9.0  7.100798828099999 ...            14.0       166.62\n",
       "   10.0       8.4133066406 ...            14.0      123.287\n",
       "    ...                ... ...             ...          ...\n",
       "   31.0      33.5213828125 ...            14.0       11.368\n",
       "   32.0      34.7712460938 ...            14.0       10.613\n",
       "   33.0 36.039816406199996 ...            14.0         9.88\n",
       "   34.0      37.3254648438 ...            14.0        9.077\n",
       "   35.0      38.6257851562 ...            14.0        8.257\n",
       "   36.0       39.938703125 ...            14.0        7.511\n",
       "   37.0       41.262953125 ...            14.0        6.908\n",
       "   38.0 42.599449218800004 ...            14.0        6.512\n",
       "   39.0       43.953546875 ...            14.0        6.348\n",
       "   40.0      45.3320664062 ...            14.0        6.418"
      ]
     },
     "execution_count": 8,
     "metadata": {},
     "output_type": "execute_result"
    }
   ],
   "source": [
    "notop.atmosphere"
   ]
  },
  {
   "cell_type": "code",
   "execution_count": 23,
   "metadata": {
    "ExecuteTime": {
     "end_time": "2018-06-03T12:02:42.263430-06:00",
     "start_time": "2018-06-03T12:02:42.065546Z"
    }
   },
   "outputs": [
    {
     "data": {
      "image/png": "[encoded data removed]",
      "text/plain": [
       "<matplotlib.figure.Figure at 0x1f63ed3b2b0>"
      ]
     },
     "metadata": {},
     "output_type": "display_data"
    }
   ],
   "source": [
    "fig = plt.figure(figsize=(10, 6))\n",
    "ax = fig.gca()\n",
    "ax.step(notop.Wavelengths, notop.Transit, linewidth=0.25, c=\"b\", where=\"post\")\n",
    "ax.set_title(\"TRAPPIST-1 e via NIRSpec-2700 Without Additional Atmosphere Layers\\n{}\".format(notop._title_stem))\n",
    "ax.set_xlabel(\"Wavelengths ($\\mu m$)\")\n",
    "ax.set_ylabel(\"Transit Depth\")\n",
    "ax.xaxis.grid(True)\n",
    "fig.savefig(\"NIRSpec-2700_no_added_layers.png\")"
   ]
  },
  {
   "cell_type": "code",
   "execution_count": 9,
   "metadata": {
    "ExecuteTime": {
     "end_time": "2018-07-20T12:11:22.162128-06:00",
     "start_time": "2018-07-20T12:11:22.130880Z"
    }
   },
   "outputs": [
    {
     "data": {
      "text/html": [
       "&lt;Table length=47&gt;\n",
       "<table id=\"table2490640912000\" class=\"table-striped table-bordered table-condensed\">\n",
       "<thead><tr><th>Layer</th><th>Height</th><th>Pressure</th><th>Temperature</th><th>N2</th><th>CO2</th><th>CH4</th><th>H2O</th><th>LiquidCloud</th><th>IceCloud</th><th>LiquidCloudSize</th><th>IceCloudSize</th></tr></thead>\n",
       "<thead><tr><th>float64</th><th>float64</th><th>float64</th><th>float64</th><th>float64</th><th>float64</th><th>float64</th><th>float64</th><th>float64</th><th>float64</th><th>float64</th><th>float64</th></tr></thead>\n",
       "<tr><td>1.0</td><td>0.0</td><td>1.399932299</td><td>300.7175494</td><td>0.699937</td><td>0.28013062</td><td>0.0</td><td>0.01993237</td><td>9.0082548e-06</td><td>1.0919827e-27</td><td>14.0</td><td>245.801</td></tr>\n",
       "<tr><td>2.0</td><td>0.1631351951</td><td>1.3683835736999999</td><td>302.350651</td><td>0.7006989</td><td>0.28041953</td><td>0.0</td><td>0.018881561</td><td>8.6280354e-06</td><td>3.1287431e-28</td><td>14.0</td><td>245.808</td></tr>\n",
       "<tr><td>3.0</td><td>0.4720340553</td><td>1.3092345992</td><td>304.67738</td><td>0.7024158</td><td>0.28107359</td><td>0.0</td><td>0.016510593</td><td>2.9814634e-06</td><td>2.7897886e-30</td><td>14.0</td><td>245.804</td></tr>\n",
       "<tr><td>4.0</td><td>0.9256815024999999</td><td>1.2188783421999998</td><td>305.7478615</td><td>0.7029044</td><td>0.28126048</td><td>0.0</td><td>0.015835146</td><td>2.4443922e-06</td><td>3.4873271e-35</td><td>14.0</td><td>245.805</td></tr>\n",
       "<tr><td>5.0</td><td>1.5198592897</td><td>1.1039830482</td><td>304.6195224</td><td>0.7031345</td><td>0.28134865</td><td>0.0</td><td>0.015516821</td><td>2.5445003e-06</td><td>1.3780943e-32</td><td>14.0</td><td>245.807</td></tr>\n",
       "<tr><td>6.0</td><td>2.2468163009</td><td>0.9725355495</td><td>300.8699354</td><td>0.7041684</td><td>0.28174562</td><td>0.0</td><td>0.014086001</td><td>3.2080635e-06</td><td>6.063442e-29</td><td>14.0</td><td>245.802</td></tr>\n",
       "<tr><td>7.0</td><td>3.0918492287</td><td>0.8333284685</td><td>294.8081454</td><td>0.7062204</td><td>0.28253813</td><td>0.0</td><td>0.011241517</td><td>3.9141567e-06</td><td>1.4204516e-26</td><td>14.0</td><td>245.495</td></tr>\n",
       "<tr><td>8.0</td><td>3.9212395682000003</td><td>0.7030910396000001</td><td>287.2907297</td><td>0.7083317</td><td>0.28336007</td><td>0.0</td><td>0.0083082087</td><td>6.1535322e-06</td><td>2.5969221e-09</td><td>14.0</td><td>242.145</td></tr>\n",
       "<tr><td>9.0</td><td>4.7345251279000005</td><td>0.5923871353</td><td>279.3354358</td><td>0.7099749</td><td>0.28400436</td><td>0.0</td><td>0.0060207769</td><td>7.9598366e-06</td><td>1.1093131e-07</td><td>14.0</td><td>232.67</td></tr>\n",
       "<tr><td>10.0</td><td>5.532766593500001</td><td>0.4982870329</td><td>271.423604</td><td>0.7112453</td><td>0.28450532</td><td>0.0</td><td>0.0042493622</td><td>9.4597874e-06</td><td>5.7950055e-07</td><td>14.0</td><td>212.377</td></tr>\n",
       "<tr><td>...</td><td>...</td><td>...</td><td>...</td><td>...</td><td>...</td><td>...</td><td>...</td><td>...</td><td>...</td><td>...</td><td>...</td></tr>\n",
       "<tr><td>38.0</td><td>25.5903624721</td><td>0.0016128499999999999</td><td>179.6920368</td><td>0.7142829</td><td>0.28571318</td><td>0.0</td><td>3.874143e-06</td><td>0.0</td><td>2.3805333e-08</td><td>14.0</td><td>6.947</td></tr>\n",
       "<tr><td>39.0</td><td>26.363905646800003</td><td>0.0012447950000000001</td><td>178.8323452</td><td>0.7142828</td><td>0.28571312</td><td>0.0</td><td>4.0800839e-06</td><td>0.0</td><td>2.0097317e-08</td><td>14.0</td><td>6.748</td></tr>\n",
       "<tr><td>40.0</td><td>27.152057293499997</td><td>0.0009559474999999999</td><td>179.0423576</td><td>0.7142826</td><td>0.28571302</td><td>0.0</td><td>4.4146765e-06</td><td>0.0</td><td>3.6108336e-09</td><td>14.0</td><td>6.762</td></tr>\n",
       "<tr><td>41.0</td><td>29.152057293500004</td><td>0.0009557668402168737</td><td>179.0423576</td><td>0.7142826</td><td>0.28571302</td><td>0.0</td><td>4.4146765e-06</td><td>0.0</td><td>3.6108336e-09</td><td>14.0</td><td>6.762</td></tr>\n",
       "<tr><td>42.0</td><td>89.19472295019739</td><td>0.0009503590619633949</td><td>179.0423576</td><td>0.7142826</td><td>0.28571302</td><td>0.0</td><td>4.4146765e-06</td><td>0.0</td><td>3.6108336e-09</td><td>14.0</td><td>6.762</td></tr>\n",
       "<tr><td>43.0</td><td>272.9035046159964</td><td>0.0009340025106382455</td><td>179.0423576</td><td>0.7142826</td><td>0.28571302</td><td>0.0</td><td>4.4146765e-06</td><td>0.0</td><td>3.6108336e-09</td><td>14.0</td><td>6.762</td></tr>\n",
       "<tr><td>44.0</td><td>834.9857521647058</td><td>0.0008856851594479048</td><td>179.0423576</td><td>0.7142826</td><td>0.28571302</td><td>0.0</td><td>4.4146765e-06</td><td>0.0</td><td>3.6108336e-09</td><td>14.0</td><td>6.762</td></tr>\n",
       "<tr><td>45.0</td><td>2554.7535833191105</td><td>0.0007528311583532439</td><td>179.0423576</td><td>0.7142826</td><td>0.28571302</td><td>0.0</td><td>4.4146765e-06</td><td>0.0</td><td>3.6108336e-09</td><td>14.0</td><td>6.762</td></tr>\n",
       "<tr><td>46.0</td><td>7816.619450764456</td><td>0.00045787078029750264</td><td>179.0423576</td><td>0.7142826</td><td>0.28571302</td><td>0.0</td><td>4.4146765e-06</td><td>0.0</td><td>3.6108336e-09</td><td>14.0</td><td>6.762</td></tr>\n",
       "<tr><td>47.0</td><td>23916.02072192392</td><td>9.999999999999984e-05</td><td>179.0423576</td><td>0.7142826</td><td>0.28571302</td><td>0.0</td><td>4.4146765e-06</td><td>0.0</td><td>3.6108336e-09</td><td>14.0</td><td>6.762</td></tr>\n",
       "</table>"
      ],
      "text/plain": [
       "<Table length=47>\n",
       " Layer        Height       ... LiquidCloudSize IceCloudSize\n",
       "float64      float64       ...     float64       float64   \n",
       "------- ------------------ ... --------------- ------------\n",
       "    1.0                0.0 ...            14.0      245.801\n",
       "    2.0       0.1631351951 ...            14.0      245.808\n",
       "    3.0       0.4720340553 ...            14.0      245.804\n",
       "    4.0 0.9256815024999999 ...            14.0      245.805\n",
       "    5.0       1.5198592897 ...            14.0      245.807\n",
       "    6.0       2.2468163009 ...            14.0      245.802\n",
       "    7.0       3.0918492287 ...            14.0      245.495\n",
       "    8.0 3.9212395682000003 ...            14.0      242.145\n",
       "    9.0 4.7345251279000005 ...            14.0       232.67\n",
       "   10.0  5.532766593500001 ...            14.0      212.377\n",
       "    ...                ... ...             ...          ...\n",
       "   38.0      25.5903624721 ...            14.0        6.947\n",
       "   39.0 26.363905646800003 ...            14.0        6.748\n",
       "   40.0 27.152057293499997 ...            14.0        6.762\n",
       "   41.0 29.152057293500004 ...            14.0        6.762\n",
       "   42.0  89.19472295019739 ...            14.0        6.762\n",
       "   43.0  272.9035046159964 ...            14.0        6.762\n",
       "   44.0  834.9857521647058 ...            14.0        6.762\n",
       "   45.0 2554.7535833191105 ...            14.0        6.762\n",
       "   46.0  7816.619450764456 ...            14.0        6.762\n",
       "   47.0  23916.02072192392 ...            14.0        6.762"
      ]
     },
     "execution_count": 9,
     "metadata": {},
     "output_type": "execute_result"
    }
   ],
   "source": [
    "transit.atmosphere"
   ]
  },
  {
   "cell_type": "code",
   "execution_count": null,
   "metadata": {},
   "outputs": [],
   "source": []
  }
 ],
 "metadata": {
  "kernelspec": {
   "display_name": "Python [conda env:snakes]",
   "language": "python",
   "name": "conda-env-snakes-py"
  },
  "language_info": {
   "codemirror_mode": {
    "name": "ipython",
    "version": 3
   },
   "file_extension": ".py",
   "mimetype": "text/x-python",
   "name": "python",
   "nbconvert_exporter": "python",
   "pygments_lexer": "ipython3",
   "version": "3.6.4"
  },
  "latex_envs": {
   "LaTeX_envs_menu_present": true,
   "autoclose": false,
   "autocomplete": true,
   "bibliofile": "biblio.bib",
   "cite_by": "apalike",
   "current_citInitial": 1,
   "eqLabelWithNumbers": true,
   "eqNumInitial": 1,
   "hotkeys": {
    "equation": "Ctrl-E",
    "itemize": "Ctrl-I"
   },
   "labels_anchors": false,
   "latex_user_defs": false,
   "report_style_numbering": false,
   "user_envs_cfg": false
  },
  "toc": {
   "base_numbering": 1,
   "nav_menu": {},
   "number_sections": true,
   "sideBar": true,
   "skip_h1_title": false,
   "title_cell": "Table of Contents",
   "title_sidebar": "Contents",
   "toc_cell": true,
   "toc_position": {},
   "toc_section_display": true,
   "toc_window_display": true
  }
 },
 "nbformat": 4,
 "nbformat_minor": 2
}
